{
 "cells": [
  {
   "cell_type": "code",
   "execution_count": 1,
   "metadata": {
    "collapsed": true
   },
   "outputs": [],
   "source": [
    "## Input Data"
   ]
  },
  {
   "cell_type": "code",
   "execution_count": 2,
   "metadata": {
    "collapsed": true
   },
   "outputs": [],
   "source": [
    "import pandas as pd\n",
    "import numpy as np"
   ]
  },
  {
   "cell_type": "code",
   "execution_count": 3,
   "metadata": {
    "collapsed": true
   },
   "outputs": [],
   "source": [
    "data=pd.read_csv(\"Data_Cortex_Nuclear.csv\")"
   ]
  },
  {
   "cell_type": "code",
   "execution_count": 29,
   "metadata": {
    "collapsed": false
   },
   "outputs": [],
   "source": [
    "data=data.dropna(axis=0,how='any')"
   ]
  },
  {
   "cell_type": "code",
   "execution_count": 30,
   "metadata": {
    "collapsed": false
   },
   "outputs": [
    {
     "data": {
      "text/html": [
       "<div>\n",
       "<table border=\"1\" class=\"dataframe\">\n",
       "  <thead>\n",
       "    <tr style=\"text-align: right;\">\n",
       "      <th></th>\n",
       "      <th>MouseID</th>\n",
       "      <th>DYRK1A_N</th>\n",
       "      <th>ITSN1_N</th>\n",
       "      <th>BDNF_N</th>\n",
       "      <th>NR1_N</th>\n",
       "      <th>NR2A_N</th>\n",
       "      <th>pAKT_N</th>\n",
       "      <th>pBRAF_N</th>\n",
       "      <th>pCAMKII_N</th>\n",
       "      <th>pCREB_N</th>\n",
       "      <th>...</th>\n",
       "      <th>pCFOS_N</th>\n",
       "      <th>SYP_N</th>\n",
       "      <th>H3AcK18_N</th>\n",
       "      <th>EGR1_N</th>\n",
       "      <th>H3MeK4_N</th>\n",
       "      <th>CaNA_N</th>\n",
       "      <th>Genotype</th>\n",
       "      <th>Treatment</th>\n",
       "      <th>Behavior</th>\n",
       "      <th>class</th>\n",
       "    </tr>\n",
       "  </thead>\n",
       "  <tbody>\n",
       "    <tr>\n",
       "      <th>75</th>\n",
       "      <td>3415_1</td>\n",
       "      <td>0.649781</td>\n",
       "      <td>0.828696</td>\n",
       "      <td>0.405862</td>\n",
       "      <td>2.921435</td>\n",
       "      <td>5.167979</td>\n",
       "      <td>0.207174</td>\n",
       "      <td>0.176640</td>\n",
       "      <td>3.728084</td>\n",
       "      <td>0.239283</td>\n",
       "      <td>...</td>\n",
       "      <td>0.129363</td>\n",
       "      <td>0.486912</td>\n",
       "      <td>0.125152</td>\n",
       "      <td>0.146865</td>\n",
       "      <td>0.143517</td>\n",
       "      <td>1.627181</td>\n",
       "      <td>0</td>\n",
       "      <td>0</td>\n",
       "      <td>0</td>\n",
       "      <td>0</td>\n",
       "    </tr>\n",
       "    <tr>\n",
       "      <th>76</th>\n",
       "      <td>3415_2</td>\n",
       "      <td>0.616481</td>\n",
       "      <td>0.841974</td>\n",
       "      <td>0.388584</td>\n",
       "      <td>2.862575</td>\n",
       "      <td>5.194163</td>\n",
       "      <td>0.223433</td>\n",
       "      <td>0.167725</td>\n",
       "      <td>3.648240</td>\n",
       "      <td>0.221030</td>\n",
       "      <td>...</td>\n",
       "      <td>0.143084</td>\n",
       "      <td>0.467833</td>\n",
       "      <td>0.112857</td>\n",
       "      <td>0.161132</td>\n",
       "      <td>0.145719</td>\n",
       "      <td>1.562096</td>\n",
       "      <td>0</td>\n",
       "      <td>0</td>\n",
       "      <td>0</td>\n",
       "      <td>0</td>\n",
       "    </tr>\n",
       "    <tr>\n",
       "      <th>77</th>\n",
       "      <td>3415_3</td>\n",
       "      <td>0.637424</td>\n",
       "      <td>0.852882</td>\n",
       "      <td>0.400561</td>\n",
       "      <td>2.968155</td>\n",
       "      <td>5.350820</td>\n",
       "      <td>0.208790</td>\n",
       "      <td>0.173261</td>\n",
       "      <td>3.814545</td>\n",
       "      <td>0.222300</td>\n",
       "      <td>...</td>\n",
       "      <td>0.147673</td>\n",
       "      <td>0.462501</td>\n",
       "      <td>0.116433</td>\n",
       "      <td>0.160594</td>\n",
       "      <td>0.142879</td>\n",
       "      <td>1.571868</td>\n",
       "      <td>0</td>\n",
       "      <td>0</td>\n",
       "      <td>0</td>\n",
       "      <td>0</td>\n",
       "    </tr>\n",
       "    <tr>\n",
       "      <th>78</th>\n",
       "      <td>3415_4</td>\n",
       "      <td>0.576815</td>\n",
       "      <td>0.755390</td>\n",
       "      <td>0.348346</td>\n",
       "      <td>2.624901</td>\n",
       "      <td>4.727509</td>\n",
       "      <td>0.205892</td>\n",
       "      <td>0.161192</td>\n",
       "      <td>3.778530</td>\n",
       "      <td>0.194153</td>\n",
       "      <td>...</td>\n",
       "      <td>0.121290</td>\n",
       "      <td>0.479110</td>\n",
       "      <td>0.102831</td>\n",
       "      <td>0.144238</td>\n",
       "      <td>0.141681</td>\n",
       "      <td>1.646608</td>\n",
       "      <td>0</td>\n",
       "      <td>0</td>\n",
       "      <td>0</td>\n",
       "      <td>0</td>\n",
       "    </tr>\n",
       "    <tr>\n",
       "      <th>79</th>\n",
       "      <td>3415_5</td>\n",
       "      <td>0.542545</td>\n",
       "      <td>0.757917</td>\n",
       "      <td>0.350051</td>\n",
       "      <td>2.634509</td>\n",
       "      <td>4.735602</td>\n",
       "      <td>0.210526</td>\n",
       "      <td>0.165671</td>\n",
       "      <td>3.871971</td>\n",
       "      <td>0.194297</td>\n",
       "      <td>...</td>\n",
       "      <td>0.142617</td>\n",
       "      <td>0.438354</td>\n",
       "      <td>0.110614</td>\n",
       "      <td>0.155667</td>\n",
       "      <td>0.146408</td>\n",
       "      <td>1.607631</td>\n",
       "      <td>0</td>\n",
       "      <td>0</td>\n",
       "      <td>0</td>\n",
       "      <td>0</td>\n",
       "    </tr>\n",
       "  </tbody>\n",
       "</table>\n",
       "<p>5 rows × 82 columns</p>\n",
       "</div>"
      ],
      "text/plain": [
       "   MouseID  DYRK1A_N   ITSN1_N    BDNF_N     NR1_N    NR2A_N    pAKT_N  \\\n",
       "75  3415_1  0.649781  0.828696  0.405862  2.921435  5.167979  0.207174   \n",
       "76  3415_2  0.616481  0.841974  0.388584  2.862575  5.194163  0.223433   \n",
       "77  3415_3  0.637424  0.852882  0.400561  2.968155  5.350820  0.208790   \n",
       "78  3415_4  0.576815  0.755390  0.348346  2.624901  4.727509  0.205892   \n",
       "79  3415_5  0.542545  0.757917  0.350051  2.634509  4.735602  0.210526   \n",
       "\n",
       "     pBRAF_N  pCAMKII_N   pCREB_N  ...     pCFOS_N     SYP_N  H3AcK18_N  \\\n",
       "75  0.176640   3.728084  0.239283  ...    0.129363  0.486912   0.125152   \n",
       "76  0.167725   3.648240  0.221030  ...    0.143084  0.467833   0.112857   \n",
       "77  0.173261   3.814545  0.222300  ...    0.147673  0.462501   0.116433   \n",
       "78  0.161192   3.778530  0.194153  ...    0.121290  0.479110   0.102831   \n",
       "79  0.165671   3.871971  0.194297  ...    0.142617  0.438354   0.110614   \n",
       "\n",
       "      EGR1_N  H3MeK4_N    CaNA_N  Genotype  Treatment  Behavior  class  \n",
       "75  0.146865  0.143517  1.627181         0          0         0      0  \n",
       "76  0.161132  0.145719  1.562096         0          0         0      0  \n",
       "77  0.160594  0.142879  1.571868         0          0         0      0  \n",
       "78  0.144238  0.141681  1.646608         0          0         0      0  \n",
       "79  0.155667  0.146408  1.607631         0          0         0      0  \n",
       "\n",
       "[5 rows x 82 columns]"
      ]
     },
     "execution_count": 30,
     "metadata": {},
     "output_type": "execute_result"
    }
   ],
   "source": [
    "data.head()"
   ]
  },
  {
   "cell_type": "code",
   "execution_count": 38,
   "metadata": {
    "collapsed": false
   },
   "outputs": [
    {
     "data": {
      "text/plain": [
       "MouseID             object\n",
       "DYRK1A_N           float64\n",
       "ITSN1_N            float64\n",
       "BDNF_N             float64\n",
       "NR1_N              float64\n",
       "NR2A_N             float64\n",
       "pAKT_N             float64\n",
       "pBRAF_N            float64\n",
       "pCAMKII_N          float64\n",
       "pCREB_N            float64\n",
       "pELK_N             float64\n",
       "pERK_N             float64\n",
       "pJNK_N             float64\n",
       "PKCA_N             float64\n",
       "pMEK_N             float64\n",
       "pNR1_N             float64\n",
       "pNR2A_N            float64\n",
       "pNR2B_N            float64\n",
       "pPKCAB_N           float64\n",
       "pRSK_N             float64\n",
       "AKT_N              float64\n",
       "BRAF_N             float64\n",
       "CAMKII_N           float64\n",
       "CREB_N             float64\n",
       "ELK_N              float64\n",
       "ERK_N              float64\n",
       "GSK3B_N            float64\n",
       "JNK_N              float64\n",
       "MEK_N              float64\n",
       "TRKA_N             float64\n",
       "                    ...   \n",
       "RRP1_N             float64\n",
       "BAX_N              float64\n",
       "ARC_N              float64\n",
       "ERBB4_N            float64\n",
       "nNOS_N             float64\n",
       "Tau_N              float64\n",
       "GFAP_N             float64\n",
       "GluR3_N            float64\n",
       "GluR4_N            float64\n",
       "IL1B_N             float64\n",
       "P3525_N            float64\n",
       "pCASP9_N           float64\n",
       "PSD95_N            float64\n",
       "SNCA_N             float64\n",
       "Ubiquitin_N        float64\n",
       "pGSK3B_Tyr216_N    float64\n",
       "SHH_N              float64\n",
       "BAD_N              float64\n",
       "BCL2_N             float64\n",
       "pS6_N              float64\n",
       "pCFOS_N            float64\n",
       "SYP_N              float64\n",
       "H3AcK18_N          float64\n",
       "EGR1_N             float64\n",
       "H3MeK4_N           float64\n",
       "CaNA_N             float64\n",
       "Genotype             int64\n",
       "Treatment            int64\n",
       "Behavior             int64\n",
       "class                int64\n",
       "dtype: object"
      ]
     },
     "execution_count": 38,
     "metadata": {},
     "output_type": "execute_result"
    }
   ],
   "source": [
    "data.dtypes"
   ]
  },
  {
   "cell_type": "code",
   "execution_count": 39,
   "metadata": {
    "collapsed": true
   },
   "outputs": [],
   "source": [
    "from sklearn.preprocessing import LabelEncoder\n",
    "lb=LabelEncoder()\n",
    "data['class']=lb.fit_transform(data['class'])\n",
    "data['Behavior']=lb.fit_transform(data['Behavior'])\n",
    "data['Treatment']=lb.fit_transform(data['Treatment'])\n",
    "data['Genotype']=lb.fit_transform(data['Genotype'])\n",
    "data['MouseID']=lb.fit_transform(data['MouseID'])"
   ]
  },
  {
   "cell_type": "code",
   "execution_count": 40,
   "metadata": {
    "collapsed": true
   },
   "outputs": [],
   "source": []
  },
  {
   "cell_type": "code",
   "execution_count": 41,
   "metadata": {
    "collapsed": false
   },
   "outputs": [],
   "source": []
  },
  {
   "cell_type": "code",
   "execution_count": 43,
   "metadata": {
    "collapsed": false
   },
   "outputs": [],
   "source": [
    "from sklearn.preprocessing import MinMaxScaler\n",
    "scaler = MinMaxScaler(feature_range=(0,1))\n",
    "normData = scaler.fit_transform(data.astype(float))"
   ]
  },
  {
   "cell_type": "code",
   "execution_count": 44,
   "metadata": {
    "collapsed": true
   },
   "outputs": [],
   "source": [
    "x=data.drop('class',axis=1)\n",
    "y=data['class']"
   ]
  },
  {
   "cell_type": "code",
   "execution_count": 45,
   "metadata": {
    "collapsed": true
   },
   "outputs": [],
   "source": [
    "from sklearn.model_selection import train_test_split\n",
    "X_train, X_test, y_train, y_test = train_test_split(x,y)"
   ]
  },
  {
   "cell_type": "code",
   "execution_count": 46,
   "metadata": {
    "collapsed": true
   },
   "outputs": [],
   "source": [
    "from sklearn.tree import DecisionTreeClassifier\n",
    "from sklearn.naive_bayes import GaussianNB\n",
    "from sklearn.neighbors import KNeighborsClassifier\n",
    "from sklearn.ensemble import VotingClassifier\n",
    "dt = DecisionTreeClassifier(criterion='gini', max_depth=5)\n",
    "gnb = GaussianNB()\n",
    "knn = KNeighborsClassifier(n_neighbors=7)\n",
    "classifiers = []\n",
    "classifiers.append(('clf1', dt))\n",
    "classifiers.append(('clf2', gnb))\n",
    "classifiers.append(('clf3', knn))\n",
    "ensemble = VotingClassifier(classifiers, voting='hard')\n",
    "ensemble.fit(X_train, y_train)\n",
    "y_pred_vot = ensemble.predict(X_test)"
   ]
  },
  {
   "cell_type": "code",
   "execution_count": 47,
   "metadata": {
    "collapsed": true
   },
   "outputs": [],
   "source": [
    "dtc = DecisionTreeClassifier(criterion='gini', max_depth=5)\n",
    "dtc.fit(X_train, y_train)\n",
    "y_pred_dtc = dtc.predict(X_test)"
   ]
  },
  {
   "cell_type": "code",
   "execution_count": 48,
   "metadata": {
    "collapsed": false
   },
   "outputs": [
    {
     "name": "stdout",
     "output_type": "stream",
     "text": [
      "[[13  0  0  0  0  0  0  0]\n",
      " [ 0 15  0  0  0  0  0  0]\n",
      " [ 0  0 14  0  0  0  0  0]\n",
      " [ 0  0  0 21  0  0  0  0]\n",
      " [ 0  0  0  0 26  0  0  0]\n",
      " [ 0  0  0  0  0 18  0  0]\n",
      " [ 0  0  0  0  0  0 17  0]\n",
      " [ 0  0  0  0  0  0  0 14]]\n",
      "             precision    recall  f1-score   support\n",
      "\n",
      "          0       1.00      1.00      1.00        13\n",
      "          1       1.00      1.00      1.00        15\n",
      "          2       1.00      1.00      1.00        14\n",
      "          3       1.00      1.00      1.00        21\n",
      "          4       1.00      1.00      1.00        26\n",
      "          5       1.00      1.00      1.00        18\n",
      "          6       1.00      1.00      1.00        17\n",
      "          7       1.00      1.00      1.00        14\n",
      "\n",
      "avg / total       1.00      1.00      1.00       138\n",
      "\n"
     ]
    }
   ],
   "source": [
    "from sklearn.metrics import classification_report\n",
    "from sklearn.metrics import confusion_matrix\n",
    "print(confusion_matrix(y_test, y_pred_vot))\n",
    "print(classification_report(y_test, y_pred_vot))"
   ]
  },
  {
   "cell_type": "code",
   "execution_count": 49,
   "metadata": {
    "collapsed": false
   },
   "outputs": [
    {
     "name": "stdout",
     "output_type": "stream",
     "text": [
      "[[13  0  0  0  0  0  0  0]\n",
      " [ 0 15  0  0  0  0  0  0]\n",
      " [ 0  0 14  0  0  0  0  0]\n",
      " [ 0  0  0 21  0  0  0  0]\n",
      " [ 0  0  0  0 26  0  0  0]\n",
      " [ 0  0  0  0  0 18  0  0]\n",
      " [ 0  0  0  0  0  0 17  0]\n",
      " [ 0  0  0  0  0  0  0 14]]\n",
      "             precision    recall  f1-score   support\n",
      "\n",
      "          0       1.00      1.00      1.00        13\n",
      "          1       1.00      1.00      1.00        15\n",
      "          2       1.00      1.00      1.00        14\n",
      "          3       1.00      1.00      1.00        21\n",
      "          4       1.00      1.00      1.00        26\n",
      "          5       1.00      1.00      1.00        18\n",
      "          6       1.00      1.00      1.00        17\n",
      "          7       1.00      1.00      1.00        14\n",
      "\n",
      "avg / total       1.00      1.00      1.00       138\n",
      "\n"
     ]
    }
   ],
   "source": [
    "print(confusion_matrix(y_test, y_pred_dtc))\n",
    "print(classification_report(y_test, y_pred_dtc))"
   ]
  },
  {
   "cell_type": "code",
   "execution_count": 50,
   "metadata": {
    "collapsed": true
   },
   "outputs": [],
   "source": [
    "from sklearn.ensemble import BaggingClassifier\n",
    "num_classifiers = 500\n",
    "max_samples = len(X_train)\n",
    "base_clf = DecisionTreeClassifier(criterion='gini', max_depth=5)\n",
    "bag_clf = BaggingClassifier(base_estimator=base_clf,n_estimators=num_classifiers,max_samples=max_samples,bootstrap=True,random_state=1)\n",
    "bag_clf.fit(X_train, y_train)\n",
    "y_pred_bag = bag_clf.predict(X_test)"
   ]
  },
  {
   "cell_type": "code",
   "execution_count": 51,
   "metadata": {
    "collapsed": false
   },
   "outputs": [
    {
     "name": "stdout",
     "output_type": "stream",
     "text": [
      "[[13  0  0  0  0  0  0  0]\n",
      " [ 0 15  0  0  0  0  0  0]\n",
      " [ 0  0 14  0  0  0  0  0]\n",
      " [ 0  0  0 21  0  0  0  0]\n",
      " [ 0  0  0  0 26  0  0  0]\n",
      " [ 0  0  0  0  0 18  0  0]\n",
      " [ 0  0  0  0  0  0 17  0]\n",
      " [ 0  0  0  0  0  0  0 14]]\n",
      "             precision    recall  f1-score   support\n",
      "\n",
      "          0       1.00      1.00      1.00        13\n",
      "          1       1.00      1.00      1.00        15\n",
      "          2       1.00      1.00      1.00        14\n",
      "          3       1.00      1.00      1.00        21\n",
      "          4       1.00      1.00      1.00        26\n",
      "          5       1.00      1.00      1.00        18\n",
      "          6       1.00      1.00      1.00        17\n",
      "          7       1.00      1.00      1.00        14\n",
      "\n",
      "avg / total       1.00      1.00      1.00       138\n",
      "\n"
     ]
    }
   ],
   "source": [
    "print(confusion_matrix(y_test, y_pred_bag))\n",
    "print(classification_report(y_test, y_pred_bag))"
   ]
  },
  {
   "cell_type": "code",
   "execution_count": 52,
   "metadata": {
    "collapsed": true
   },
   "outputs": [],
   "source": [
    "from sklearn.ensemble import AdaBoostClassifier\n",
    "num_classifiers = 500\n",
    "learning_rate = 0.07\n",
    "ada_clf = AdaBoostClassifier(base_estimator=base_clf,\n",
    "n_estimators=num_classifiers,\n",
    "learning_rate=learning_rate)\n",
    "ada_clf.fit(X_train, y_train)\n",
    "y_pred_ada = ada_clf.predict(X_test)"
   ]
  },
  {
   "cell_type": "code",
   "execution_count": 53,
   "metadata": {
    "collapsed": false
   },
   "outputs": [
    {
     "name": "stdout",
     "output_type": "stream",
     "text": [
      "[[13  0  0  0  0  0  0  0]\n",
      " [ 0 15  0  0  0  0  0  0]\n",
      " [ 0  0 14  0  0  0  0  0]\n",
      " [ 0  0  0 21  0  0  0  0]\n",
      " [ 0  0  0  0 26  0  0  0]\n",
      " [ 0  0  0  0  0 18  0  0]\n",
      " [ 0  0  0  0  0  0 17  0]\n",
      " [ 0  0  0  0  0  0  0 14]]\n",
      "             precision    recall  f1-score   support\n",
      "\n",
      "          0       1.00      1.00      1.00        13\n",
      "          1       1.00      1.00      1.00        15\n",
      "          2       1.00      1.00      1.00        14\n",
      "          3       1.00      1.00      1.00        21\n",
      "          4       1.00      1.00      1.00        26\n",
      "          5       1.00      1.00      1.00        18\n",
      "          6       1.00      1.00      1.00        17\n",
      "          7       1.00      1.00      1.00        14\n",
      "\n",
      "avg / total       1.00      1.00      1.00       138\n",
      "\n"
     ]
    }
   ],
   "source": [
    "print(confusion_matrix(y_test, y_pred_ada))\n",
    "print(classification_report(y_test, y_pred_ada))"
   ]
  },
  {
   "cell_type": "code",
   "execution_count": 54,
   "metadata": {
    "collapsed": true
   },
   "outputs": [],
   "source": [
    "from sklearn.ensemble import RandomForestClassifier\n",
    "rf = RandomForestClassifier(n_estimators=num_classifiers,\n",
    "criterion='gini', max_depth=5)\n",
    "rf.fit(X_train, y_train)\n",
    "y_pred_rf = rf.predict(X_test)"
   ]
  },
  {
   "cell_type": "code",
   "execution_count": 55,
   "metadata": {
    "collapsed": false
   },
   "outputs": [
    {
     "name": "stdout",
     "output_type": "stream",
     "text": [
      "[[13  0  0  0  0  0  0  0]\n",
      " [ 0 15  0  0  0  0  0  0]\n",
      " [ 0  0 14  0  0  0  0  0]\n",
      " [ 0  0  0 21  0  0  0  0]\n",
      " [ 0  0  0  0 26  0  0  0]\n",
      " [ 0  0  0  0  0 18  0  0]\n",
      " [ 0  0  0  0  0  0 17  0]\n",
      " [ 0  0  0  0  0  0  0 14]]\n",
      "             precision    recall  f1-score   support\n",
      "\n",
      "          0       1.00      1.00      1.00        13\n",
      "          1       1.00      1.00      1.00        15\n",
      "          2       1.00      1.00      1.00        14\n",
      "          3       1.00      1.00      1.00        21\n",
      "          4       1.00      1.00      1.00        26\n",
      "          5       1.00      1.00      1.00        18\n",
      "          6       1.00      1.00      1.00        17\n",
      "          7       1.00      1.00      1.00        14\n",
      "\n",
      "avg / total       1.00      1.00      1.00       138\n",
      "\n"
     ]
    }
   ],
   "source": [
    "print(confusion_matrix(y_test, y_pred_rf))\n",
    "print(classification_report(y_test, y_pred_rf))"
   ]
  },
  {
   "cell_type": "code",
   "execution_count": 62,
   "metadata": {
    "collapsed": false
   },
   "outputs": [
    {
     "ename": "FileNotFoundError",
     "evalue": "[WinError 2] \"dot\" not found in path.",
     "output_type": "error",
     "traceback": [
      "\u001b[0;31m---------------------------------------------------------------------------\u001b[0m",
      "\u001b[0;31mFileNotFoundError\u001b[0m                         Traceback (most recent call last)",
      "\u001b[0;32mC:\\Users\\student.CSLAB5PC22\\Anaconda3\\lib\\site-packages\\pydot.py\u001b[0m in \u001b[0;36mcreate\u001b[0;34m(self, prog, format, encoding)\u001b[0m\n\u001b[1;32m   1914\u001b[0m                 \u001b[0marguments\u001b[0m\u001b[1;33m=\u001b[0m\u001b[0marguments\u001b[0m\u001b[1;33m,\u001b[0m\u001b[1;33m\u001b[0m\u001b[0m\n\u001b[0;32m-> 1915\u001b[0;31m                 \u001b[0mworking_dir\u001b[0m\u001b[1;33m=\u001b[0m\u001b[0mtmp_dir\u001b[0m\u001b[1;33m,\u001b[0m\u001b[1;33m\u001b[0m\u001b[0m\n\u001b[0m\u001b[1;32m   1916\u001b[0m             )\n",
      "\u001b[0;32mC:\\Users\\student.CSLAB5PC22\\Anaconda3\\lib\\site-packages\\pydot.py\u001b[0m in \u001b[0;36mcall_graphviz\u001b[0;34m(program, arguments, working_dir, **kwargs)\u001b[0m\n\u001b[1;32m    135\u001b[0m         \u001b[0mstdout\u001b[0m\u001b[1;33m=\u001b[0m\u001b[0msubprocess\u001b[0m\u001b[1;33m.\u001b[0m\u001b[0mPIPE\u001b[0m\u001b[1;33m,\u001b[0m\u001b[1;33m\u001b[0m\u001b[0m\n\u001b[0;32m--> 136\u001b[0;31m         \u001b[1;33m**\u001b[0m\u001b[0mkwargs\u001b[0m\u001b[1;33m\u001b[0m\u001b[0m\n\u001b[0m\u001b[1;32m    137\u001b[0m     )\n",
      "\u001b[0;32mC:\\Users\\student.CSLAB5PC22\\Anaconda3\\lib\\subprocess.py\u001b[0m in \u001b[0;36m__init__\u001b[0;34m(self, args, bufsize, executable, stdin, stdout, stderr, preexec_fn, close_fds, shell, cwd, env, universal_newlines, startupinfo, creationflags, restore_signals, start_new_session, pass_fds, encoding, errors)\u001b[0m\n\u001b[1;32m    706\u001b[0m                                 \u001b[0merrread\u001b[0m\u001b[1;33m,\u001b[0m \u001b[0merrwrite\u001b[0m\u001b[1;33m,\u001b[0m\u001b[1;33m\u001b[0m\u001b[0m\n\u001b[0;32m--> 707\u001b[0;31m                                 restore_signals, start_new_session)\n\u001b[0m\u001b[1;32m    708\u001b[0m         \u001b[1;32mexcept\u001b[0m\u001b[1;33m:\u001b[0m\u001b[1;33m\u001b[0m\u001b[0m\n",
      "\u001b[0;32mC:\\Users\\student.CSLAB5PC22\\Anaconda3\\lib\\subprocess.py\u001b[0m in \u001b[0;36m_execute_child\u001b[0;34m(self, args, executable, preexec_fn, close_fds, pass_fds, cwd, env, startupinfo, creationflags, shell, p2cread, p2cwrite, c2pread, c2pwrite, errread, errwrite, unused_restore_signals, unused_start_new_session)\u001b[0m\n\u001b[1;32m    989\u001b[0m                                          \u001b[0mcwd\u001b[0m\u001b[1;33m,\u001b[0m\u001b[1;33m\u001b[0m\u001b[0m\n\u001b[0;32m--> 990\u001b[0;31m                                          startupinfo)\n\u001b[0m\u001b[1;32m    991\u001b[0m             \u001b[1;32mfinally\u001b[0m\u001b[1;33m:\u001b[0m\u001b[1;33m\u001b[0m\u001b[0m\n",
      "\u001b[0;31mFileNotFoundError\u001b[0m: [WinError 2] The system cannot find the file specified",
      "\nDuring handling of the above exception, another exception occurred:\n",
      "\u001b[0;31mFileNotFoundError\u001b[0m                         Traceback (most recent call last)",
      "\u001b[0;32m<ipython-input-62-49e64c7f87b9>\u001b[0m in \u001b[0;36m<module>\u001b[0;34m()\u001b[0m\n\u001b[1;32m      6\u001b[0m \u001b[1;33m(\u001b[0m\u001b[0mgraph\u001b[0m\u001b[1;33m,\u001b[0m\u001b[1;33m)\u001b[0m \u001b[1;33m=\u001b[0m \u001b[0mpydot\u001b[0m\u001b[1;33m.\u001b[0m\u001b[0mgraph_from_dot_file\u001b[0m\u001b[1;33m(\u001b[0m\u001b[1;34m'tree.dot'\u001b[0m\u001b[1;33m)\u001b[0m\u001b[1;33m\u001b[0m\u001b[0m\n\u001b[1;32m      7\u001b[0m \u001b[1;31m# Write graph to a png file\u001b[0m\u001b[1;33m\u001b[0m\u001b[1;33m\u001b[0m\u001b[0m\n\u001b[0;32m----> 8\u001b[0;31m \u001b[0mgraph\u001b[0m\u001b[1;33m.\u001b[0m\u001b[0mwrite_png\u001b[0m\u001b[1;33m(\u001b[0m\u001b[1;34m'tree.png'\u001b[0m\u001b[1;33m)\u001b[0m\u001b[1;33m\u001b[0m\u001b[0m\n\u001b[0m",
      "\u001b[0;32mC:\\Users\\student.CSLAB5PC22\\Anaconda3\\lib\\site-packages\\pydot.py\u001b[0m in \u001b[0;36mnew_method\u001b[0;34m(path, f, prog, encoding)\u001b[0m\n\u001b[1;32m   1732\u001b[0m                 self.write(\n\u001b[1;32m   1733\u001b[0m                     \u001b[0mpath\u001b[0m\u001b[1;33m,\u001b[0m \u001b[0mformat\u001b[0m\u001b[1;33m=\u001b[0m\u001b[0mf\u001b[0m\u001b[1;33m,\u001b[0m \u001b[0mprog\u001b[0m\u001b[1;33m=\u001b[0m\u001b[0mprog\u001b[0m\u001b[1;33m,\u001b[0m\u001b[1;33m\u001b[0m\u001b[0m\n\u001b[0;32m-> 1734\u001b[0;31m                     encoding=encoding)\n\u001b[0m\u001b[1;32m   1735\u001b[0m             \u001b[0mname\u001b[0m \u001b[1;33m=\u001b[0m \u001b[1;34m'write_{fmt}'\u001b[0m\u001b[1;33m.\u001b[0m\u001b[0mformat\u001b[0m\u001b[1;33m(\u001b[0m\u001b[0mfmt\u001b[0m\u001b[1;33m=\u001b[0m\u001b[0mfrmt\u001b[0m\u001b[1;33m)\u001b[0m\u001b[1;33m\u001b[0m\u001b[0m\n\u001b[1;32m   1736\u001b[0m             \u001b[0mself\u001b[0m\u001b[1;33m.\u001b[0m\u001b[0m__setattr__\u001b[0m\u001b[1;33m(\u001b[0m\u001b[0mname\u001b[0m\u001b[1;33m,\u001b[0m \u001b[0mnew_method\u001b[0m\u001b[1;33m)\u001b[0m\u001b[1;33m\u001b[0m\u001b[0m\n",
      "\u001b[0;32mC:\\Users\\student.CSLAB5PC22\\Anaconda3\\lib\\site-packages\\pydot.py\u001b[0m in \u001b[0;36mwrite\u001b[0;34m(self, path, prog, format, encoding)\u001b[0m\n\u001b[1;32m   1815\u001b[0m                 \u001b[0mf\u001b[0m\u001b[1;33m.\u001b[0m\u001b[0mwrite\u001b[0m\u001b[1;33m(\u001b[0m\u001b[0ms\u001b[0m\u001b[1;33m)\u001b[0m\u001b[1;33m\u001b[0m\u001b[0m\n\u001b[1;32m   1816\u001b[0m         \u001b[1;32melse\u001b[0m\u001b[1;33m:\u001b[0m\u001b[1;33m\u001b[0m\u001b[0m\n\u001b[0;32m-> 1817\u001b[0;31m             \u001b[0ms\u001b[0m \u001b[1;33m=\u001b[0m \u001b[0mself\u001b[0m\u001b[1;33m.\u001b[0m\u001b[0mcreate\u001b[0m\u001b[1;33m(\u001b[0m\u001b[0mprog\u001b[0m\u001b[1;33m,\u001b[0m \u001b[0mformat\u001b[0m\u001b[1;33m,\u001b[0m \u001b[0mencoding\u001b[0m\u001b[1;33m=\u001b[0m\u001b[0mencoding\u001b[0m\u001b[1;33m)\u001b[0m\u001b[1;33m\u001b[0m\u001b[0m\n\u001b[0m\u001b[1;32m   1818\u001b[0m             \u001b[1;32mwith\u001b[0m \u001b[0mio\u001b[0m\u001b[1;33m.\u001b[0m\u001b[0mopen\u001b[0m\u001b[1;33m(\u001b[0m\u001b[0mpath\u001b[0m\u001b[1;33m,\u001b[0m \u001b[0mmode\u001b[0m\u001b[1;33m=\u001b[0m\u001b[1;34m'wb'\u001b[0m\u001b[1;33m)\u001b[0m \u001b[1;32mas\u001b[0m \u001b[0mf\u001b[0m\u001b[1;33m:\u001b[0m\u001b[1;33m\u001b[0m\u001b[0m\n\u001b[1;32m   1819\u001b[0m                 \u001b[0mf\u001b[0m\u001b[1;33m.\u001b[0m\u001b[0mwrite\u001b[0m\u001b[1;33m(\u001b[0m\u001b[0ms\u001b[0m\u001b[1;33m)\u001b[0m\u001b[1;33m\u001b[0m\u001b[0m\n",
      "\u001b[0;32mC:\\Users\\student.CSLAB5PC22\\Anaconda3\\lib\\site-packages\\pydot.py\u001b[0m in \u001b[0;36mcreate\u001b[0;34m(self, prog, format, encoding)\u001b[0m\n\u001b[1;32m   1920\u001b[0m                 args[1] = '\"{prog}\" not found in path.'.format(\n\u001b[1;32m   1921\u001b[0m                     prog=prog)\n\u001b[0;32m-> 1922\u001b[0;31m                 \u001b[1;32mraise\u001b[0m \u001b[0mOSError\u001b[0m\u001b[1;33m(\u001b[0m\u001b[1;33m*\u001b[0m\u001b[0margs\u001b[0m\u001b[1;33m)\u001b[0m\u001b[1;33m\u001b[0m\u001b[0m\n\u001b[0m\u001b[1;32m   1923\u001b[0m             \u001b[1;32melse\u001b[0m\u001b[1;33m:\u001b[0m\u001b[1;33m\u001b[0m\u001b[0m\n\u001b[1;32m   1924\u001b[0m                 \u001b[1;32mraise\u001b[0m\u001b[1;33m\u001b[0m\u001b[0m\n",
      "\u001b[0;31mFileNotFoundError\u001b[0m: [WinError 2] \"dot\" not found in path."
     ]
    }
   ],
   "source": [
    "from sklearn.tree import export_graphviz\n",
    "import pydot\n",
    "tree = rf.estimators_[9]\n",
    "export_graphviz(tree, out_file = 'tree.dot',feature_names = x.columns,rounded = True)\n",
    "# Use dot file to create a graph\n",
    "(graph,) = pydot.graph_from_dot_file('tree.dot')\n",
    "# Write graph to a png file\n",
    "graph.write_png('tree.png')"
   ]
  },
  {
   "cell_type": "code",
   "execution_count": 64,
   "metadata": {
    "collapsed": false
   },
   "outputs": [
    {
     "ename": "ValueError",
     "evalue": "incompatible sizes: argument 'width' must be length 552 or scalar",
     "output_type": "error",
     "traceback": [
      "\u001b[0;31m---------------------------------------------------------------------------\u001b[0m",
      "\u001b[0;31mValueError\u001b[0m                                Traceback (most recent call last)",
      "\u001b[0;32m<ipython-input-64-b3508002580a>\u001b[0m in \u001b[0;36m<module>\u001b[0;34m()\u001b[0m\n\u001b[1;32m      4\u001b[0m \u001b[0mfeat_index\u001b[0m \u001b[1;33m=\u001b[0m \u001b[0mnp\u001b[0m\u001b[1;33m.\u001b[0m\u001b[0marange\u001b[0m\u001b[1;33m(\u001b[0m\u001b[0mn_features\u001b[0m\u001b[1;33m)\u001b[0m\u001b[1;33m\u001b[0m\u001b[0m\n\u001b[1;32m      5\u001b[0m \u001b[0mplt\u001b[0m\u001b[1;33m.\u001b[0m\u001b[0mfigure\u001b[0m\u001b[1;33m(\u001b[0m\u001b[0mfigsize\u001b[0m\u001b[1;33m=\u001b[0m\u001b[1;33m(\u001b[0m\u001b[1;36m10\u001b[0m\u001b[1;33m,\u001b[0m\u001b[1;36m10\u001b[0m\u001b[1;33m)\u001b[0m\u001b[1;33m)\u001b[0m\u001b[1;33m\u001b[0m\u001b[0m\n\u001b[0;32m----> 6\u001b[0;31m \u001b[0mplt\u001b[0m\u001b[1;33m.\u001b[0m\u001b[0mbarh\u001b[0m\u001b[1;33m(\u001b[0m\u001b[0mfeat_index\u001b[0m\u001b[1;33m,\u001b[0m \u001b[0mrf\u001b[0m\u001b[1;33m.\u001b[0m\u001b[0mfeature_importances_\u001b[0m\u001b[1;33m)\u001b[0m\u001b[1;33m\u001b[0m\u001b[0m\n\u001b[0m\u001b[1;32m      7\u001b[0m \u001b[0mplt\u001b[0m\u001b[1;33m.\u001b[0m\u001b[0myticks\u001b[0m\u001b[1;33m(\u001b[0m\u001b[0mfeat_index\u001b[0m\u001b[1;33m,\u001b[0m \u001b[0mx\u001b[0m\u001b[1;33m)\u001b[0m\u001b[1;33m\u001b[0m\u001b[0m\n\u001b[1;32m      8\u001b[0m \u001b[0mplt\u001b[0m\u001b[1;33m.\u001b[0m\u001b[0mshow\u001b[0m\u001b[1;33m(\u001b[0m\u001b[1;33m)\u001b[0m\u001b[1;33m\u001b[0m\u001b[0m\n",
      "\u001b[0;32mC:\\Users\\student.CSLAB5PC22\\Anaconda3\\lib\\site-packages\\matplotlib\\pyplot.py\u001b[0m in \u001b[0;36mbarh\u001b[0;34m(bottom, width, height, left, hold, **kwargs)\u001b[0m\n\u001b[1;32m   2724\u001b[0m                       mplDeprecation)\n\u001b[1;32m   2725\u001b[0m     \u001b[1;32mtry\u001b[0m\u001b[1;33m:\u001b[0m\u001b[1;33m\u001b[0m\u001b[0m\n\u001b[0;32m-> 2726\u001b[0;31m         \u001b[0mret\u001b[0m \u001b[1;33m=\u001b[0m \u001b[0max\u001b[0m\u001b[1;33m.\u001b[0m\u001b[0mbarh\u001b[0m\u001b[1;33m(\u001b[0m\u001b[0mbottom\u001b[0m\u001b[1;33m,\u001b[0m \u001b[0mwidth\u001b[0m\u001b[1;33m,\u001b[0m \u001b[0mheight\u001b[0m\u001b[1;33m=\u001b[0m\u001b[0mheight\u001b[0m\u001b[1;33m,\u001b[0m \u001b[0mleft\u001b[0m\u001b[1;33m=\u001b[0m\u001b[0mleft\u001b[0m\u001b[1;33m,\u001b[0m \u001b[1;33m**\u001b[0m\u001b[0mkwargs\u001b[0m\u001b[1;33m)\u001b[0m\u001b[1;33m\u001b[0m\u001b[0m\n\u001b[0m\u001b[1;32m   2727\u001b[0m     \u001b[1;32mfinally\u001b[0m\u001b[1;33m:\u001b[0m\u001b[1;33m\u001b[0m\u001b[0m\n\u001b[1;32m   2728\u001b[0m         \u001b[0max\u001b[0m\u001b[1;33m.\u001b[0m\u001b[0m_hold\u001b[0m \u001b[1;33m=\u001b[0m \u001b[0mwashold\u001b[0m\u001b[1;33m\u001b[0m\u001b[0m\n",
      "\u001b[0;32mC:\\Users\\student.CSLAB5PC22\\Anaconda3\\lib\\site-packages\\matplotlib\\axes\\_axes.py\u001b[0m in \u001b[0;36mbarh\u001b[0;34m(self, bottom, width, height, left, **kwargs)\u001b[0m\n\u001b[1;32m   2289\u001b[0m \u001b[1;33m\u001b[0m\u001b[0m\n\u001b[1;32m   2290\u001b[0m         patches = self.bar(left=left, height=height, width=width,\n\u001b[0;32m-> 2291\u001b[0;31m                            bottom=bottom, orientation='horizontal', **kwargs)\n\u001b[0m\u001b[1;32m   2292\u001b[0m         \u001b[1;32mreturn\u001b[0m \u001b[0mpatches\u001b[0m\u001b[1;33m\u001b[0m\u001b[0m\n\u001b[1;32m   2293\u001b[0m \u001b[1;33m\u001b[0m\u001b[0m\n",
      "\u001b[0;32mC:\\Users\\student.CSLAB5PC22\\Anaconda3\\lib\\site-packages\\matplotlib\\__init__.py\u001b[0m in \u001b[0;36minner\u001b[0;34m(ax, *args, **kwargs)\u001b[0m\n\u001b[1;32m   1889\u001b[0m                     warnings.warn(msg % (label_namer, func.__name__),\n\u001b[1;32m   1890\u001b[0m                                   RuntimeWarning, stacklevel=2)\n\u001b[0;32m-> 1891\u001b[0;31m             \u001b[1;32mreturn\u001b[0m \u001b[0mfunc\u001b[0m\u001b[1;33m(\u001b[0m\u001b[0max\u001b[0m\u001b[1;33m,\u001b[0m \u001b[1;33m*\u001b[0m\u001b[0margs\u001b[0m\u001b[1;33m,\u001b[0m \u001b[1;33m**\u001b[0m\u001b[0mkwargs\u001b[0m\u001b[1;33m)\u001b[0m\u001b[1;33m\u001b[0m\u001b[0m\n\u001b[0m\u001b[1;32m   1892\u001b[0m         \u001b[0mpre_doc\u001b[0m \u001b[1;33m=\u001b[0m \u001b[0minner\u001b[0m\u001b[1;33m.\u001b[0m\u001b[0m__doc__\u001b[0m\u001b[1;33m\u001b[0m\u001b[0m\n\u001b[1;32m   1893\u001b[0m         \u001b[1;32mif\u001b[0m \u001b[0mpre_doc\u001b[0m \u001b[1;32mis\u001b[0m \u001b[1;32mNone\u001b[0m\u001b[1;33m:\u001b[0m\u001b[1;33m\u001b[0m\u001b[0m\n",
      "\u001b[0;32mC:\\Users\\student.CSLAB5PC22\\Anaconda3\\lib\\site-packages\\matplotlib\\axes\\_axes.py\u001b[0m in \u001b[0;36mbar\u001b[0;34m(self, left, height, width, bottom, **kwargs)\u001b[0m\n\u001b[1;32m   2080\u001b[0m         \u001b[1;32mif\u001b[0m \u001b[0mlen\u001b[0m\u001b[1;33m(\u001b[0m\u001b[0mwidth\u001b[0m\u001b[1;33m)\u001b[0m \u001b[1;33m!=\u001b[0m \u001b[0mnbars\u001b[0m\u001b[1;33m:\u001b[0m\u001b[1;33m\u001b[0m\u001b[0m\n\u001b[1;32m   2081\u001b[0m             raise ValueError(\"incompatible sizes: argument 'width' \"\n\u001b[0;32m-> 2082\u001b[0;31m                              \"must be length %d or scalar\" % nbars)\n\u001b[0m\u001b[1;32m   2083\u001b[0m         \u001b[1;32mif\u001b[0m \u001b[0mlen\u001b[0m\u001b[1;33m(\u001b[0m\u001b[0mbottom\u001b[0m\u001b[1;33m)\u001b[0m \u001b[1;33m!=\u001b[0m \u001b[0mnbars\u001b[0m\u001b[1;33m:\u001b[0m\u001b[1;33m\u001b[0m\u001b[0m\n\u001b[1;32m   2084\u001b[0m             raise ValueError(\"incompatible sizes: argument 'bottom' \"\n",
      "\u001b[0;31mValueError\u001b[0m: incompatible sizes: argument 'width' must be length 552 or scalar"
     ]
    },
    {
     "data": {
      "image/png": "[encoded data removed]",
      "text/plain": [
       "<matplotlib.figure.Figure at 0x1defbe6f898>"
      ]
     },
     "metadata": {},
     "output_type": "display_data"
    }
   ],
   "source": [
    "%matplotlib inline\n",
    "from matplotlib import pyplot as plt\n",
    "n_features = len(x)\n",
    "feat_index = np.arange(n_features)\n",
    "plt.figure(figsize=(10,10))\n",
    "plt.barh(feat_index, rf.feature_importances_)\n",
    "plt.yticks(feat_index, x)\n",
    "plt.show()"
   ]
  },
  {
   "cell_type": "code",
   "execution_count": 70,
   "metadata": {
    "collapsed": false
   },
   "outputs": [
    {
     "ename": "ModuleNotFoundError",
     "evalue": "No module named 'mlxtend'",
     "output_type": "error",
     "traceback": [
      "\u001b[0;31m---------------------------------------------------------------------------\u001b[0m",
      "\u001b[0;31mModuleNotFoundError\u001b[0m                       Traceback (most recent call last)",
      "\u001b[0;32m<ipython-input-70-74fab7f31c2e>\u001b[0m in \u001b[0;36m<module>\u001b[0;34m()\u001b[0m\n\u001b[1;32m      1\u001b[0m \u001b[1;32mfrom\u001b[0m \u001b[0msklearn\u001b[0m\u001b[1;33m.\u001b[0m\u001b[0msvm\u001b[0m \u001b[1;32mimport\u001b[0m \u001b[0mSVC\u001b[0m\u001b[1;33m\u001b[0m\u001b[0m\n\u001b[0;32m----> 2\u001b[0;31m \u001b[1;32mfrom\u001b[0m \u001b[0mmlxtend\u001b[0m\u001b[1;33m.\u001b[0m\u001b[0mclassifier\u001b[0m \u001b[1;32mimport\u001b[0m \u001b[0mStackingClassifier\u001b[0m\u001b[1;33m\u001b[0m\u001b[0m\n\u001b[0m\u001b[1;32m      3\u001b[0m \u001b[0mclf1\u001b[0m \u001b[1;33m=\u001b[0m \u001b[0mDecisionTreeClassifier\u001b[0m\u001b[1;33m(\u001b[0m\u001b[0mcriterion\u001b[0m\u001b[1;33m=\u001b[0m\u001b[1;34m'gini'\u001b[0m\u001b[1;33m,\u001b[0m \u001b[0mmax_depth\u001b[0m\u001b[1;33m=\u001b[0m\u001b[1;36m5\u001b[0m\u001b[1;33m)\u001b[0m\u001b[1;33m\u001b[0m\u001b[0m\n\u001b[1;32m      4\u001b[0m \u001b[0mclf2\u001b[0m \u001b[1;33m=\u001b[0m \u001b[0mGaussianNB\u001b[0m\u001b[1;33m(\u001b[0m\u001b[1;33m)\u001b[0m\u001b[1;33m\u001b[0m\u001b[0m\n\u001b[1;32m      5\u001b[0m \u001b[0mclf3\u001b[0m \u001b[1;33m=\u001b[0m \u001b[0mKNeighborsClassifier\u001b[0m\u001b[1;33m(\u001b[0m\u001b[0mn_neighbors\u001b[0m\u001b[1;33m=\u001b[0m\u001b[1;36m7\u001b[0m\u001b[1;33m)\u001b[0m\u001b[1;33m\u001b[0m\u001b[0m\n",
      "\u001b[0;31mModuleNotFoundError\u001b[0m: No module named 'mlxtend'"
     ]
    }
   ],
   "source": [
    "from sklearn.svm import SVC\n",
    "from mlxtend.classifier import StackingClassifier\n",
    "clf1 = DecisionTreeClassifier(criterion='gini', max_depth=5)\n",
    "clf2 = GaussianNB()\n",
    "clf3 = KNeighborsClassifier(n_neighbors=7)\n",
    "meta_clf = SVC(gamma='scale')\n",
    "clf_stack = StackingClassifier(classifiers=[clf1, clf2, clf3],meta_classifier=meta_clf, store_train_meta_features=True)\n",
    "clf_stack.fit(X_train, y_train)\n",
    "y_pred_stack = clf_stack.predict(X_test)"
   ]
  },
  {
   "cell_type": "code",
   "execution_count": 71,
   "metadata": {
    "collapsed": false
   },
   "outputs": [
    {
     "ename": "NameError",
     "evalue": "name 'y_pred_stack' is not defined",
     "output_type": "error",
     "traceback": [
      "\u001b[0;31m---------------------------------------------------------------------------\u001b[0m",
      "\u001b[0;31mNameError\u001b[0m                                 Traceback (most recent call last)",
      "\u001b[0;32m<ipython-input-71-f89461dc4df1>\u001b[0m in \u001b[0;36m<module>\u001b[0;34m()\u001b[0m\n\u001b[0;32m----> 1\u001b[0;31m \u001b[0mprint\u001b[0m\u001b[1;33m(\u001b[0m\u001b[0mconfusion_matrix\u001b[0m\u001b[1;33m(\u001b[0m\u001b[0my_test\u001b[0m\u001b[1;33m,\u001b[0m \u001b[0my_pred_stack\u001b[0m\u001b[1;33m)\u001b[0m\u001b[1;33m)\u001b[0m\u001b[1;33m\u001b[0m\u001b[0m\n\u001b[0m\u001b[1;32m      2\u001b[0m \u001b[0mprint\u001b[0m\u001b[1;33m(\u001b[0m\u001b[0mclassification_report\u001b[0m\u001b[1;33m(\u001b[0m\u001b[0my_test\u001b[0m\u001b[1;33m,\u001b[0m \u001b[0my_pred_stack\u001b[0m\u001b[1;33m)\u001b[0m\u001b[1;33m)\u001b[0m\u001b[1;33m\u001b[0m\u001b[0m\n",
      "\u001b[0;31mNameError\u001b[0m: name 'y_pred_stack' is not defined"
     ]
    }
   ],
   "source": [
    "print(confusion_matrix(y_test, y_pred_stack))\n",
    "print(classification_report(y_test, y_pred_stack))"
   ]
  },
  {
   "cell_type": "code",
   "execution_count": null,
   "metadata": {
    "collapsed": true
   },
   "outputs": [],
   "source": []
  }
 ],
 "metadata": {
  "kernelspec": {
   "display_name": "Python 3",
   "language": "python",
   "name": "python3"
  },
  "language_info": {
   "codemirror_mode": {
    "name": "ipython",
    "version": 3
   },
   "file_extension": ".py",
   "mimetype": "text/x-python",
   "name": "python",
   "nbconvert_exporter": "python",
   "pygments_lexer": "ipython3",
   "version": "3.6.0"
  }
 },
 "nbformat": 4,
 "nbformat_minor": 2
}
