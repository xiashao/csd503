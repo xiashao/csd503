{
 "cells": [
  {
   "cell_type": "markdown",
   "metadata": {},
   "source": [
    "# Lab - Ensemble Learning\n",
    "## Shang mingxia P-COM0077/19"
   ]
  },
  {
   "cell_type": "markdown",
   "metadata": {},
   "source": [
    "## 1. Input Data"
   ]
  },
  {
   "cell_type": "code",
   "execution_count": 1,
   "metadata": {},
   "outputs": [],
   "source": [
    "import pandas as pd\n",
    "import numpy as np"
   ]
  },
  {
   "cell_type": "code",
   "execution_count": 2,
   "metadata": {},
   "outputs": [],
   "source": [
    "data=pd.read_csv(\"Data_Cortex_Nuclear.csv\")"
   ]
  },
  {
   "cell_type": "code",
   "execution_count": 3,
   "metadata": {
    "collapsed": false,
    "jupyter": {
     "outputs_hidden": false
    }
   },
   "outputs": [],
   "source": [
    "data=data.dropna(axis=0,how='any')"
   ]
  },
  {
   "cell_type": "code",
   "execution_count": 4,
   "metadata": {
    "collapsed": false,
    "jupyter": {
     "outputs_hidden": false
    }
   },
   "outputs": [
    {
     "data": {
      "text/html": [
       "<div>\n",
       "<style scoped>\n",
       "    .dataframe tbody tr th:only-of-type {\n",
       "        vertical-align: middle;\n",
       "    }\n",
       "\n",
       "    .dataframe tbody tr th {\n",
       "        vertical-align: top;\n",
       "    }\n",
       "\n",
       "    .dataframe thead th {\n",
       "        text-align: right;\n",
       "    }\n",
       "</style>\n",
       "<table border=\"1\" class=\"dataframe\">\n",
       "  <thead>\n",
       "    <tr style=\"text-align: right;\">\n",
       "      <th></th>\n",
       "      <th>MouseID</th>\n",
       "      <th>DYRK1A_N</th>\n",
       "      <th>ITSN1_N</th>\n",
       "      <th>BDNF_N</th>\n",
       "      <th>NR1_N</th>\n",
       "      <th>NR2A_N</th>\n",
       "      <th>pAKT_N</th>\n",
       "      <th>pBRAF_N</th>\n",
       "      <th>pCAMKII_N</th>\n",
       "      <th>pCREB_N</th>\n",
       "      <th>...</th>\n",
       "      <th>pCFOS_N</th>\n",
       "      <th>SYP_N</th>\n",
       "      <th>H3AcK18_N</th>\n",
       "      <th>EGR1_N</th>\n",
       "      <th>H3MeK4_N</th>\n",
       "      <th>CaNA_N</th>\n",
       "      <th>Genotype</th>\n",
       "      <th>Treatment</th>\n",
       "      <th>Behavior</th>\n",
       "      <th>class</th>\n",
       "    </tr>\n",
       "  </thead>\n",
       "  <tbody>\n",
       "    <tr>\n",
       "      <th>75</th>\n",
       "      <td>3415_1</td>\n",
       "      <td>0.649781</td>\n",
       "      <td>0.828696</td>\n",
       "      <td>0.405862</td>\n",
       "      <td>2.921435</td>\n",
       "      <td>5.167979</td>\n",
       "      <td>0.207174</td>\n",
       "      <td>0.176640</td>\n",
       "      <td>3.728084</td>\n",
       "      <td>0.239283</td>\n",
       "      <td>...</td>\n",
       "      <td>0.129363</td>\n",
       "      <td>0.486912</td>\n",
       "      <td>0.125152</td>\n",
       "      <td>0.146865</td>\n",
       "      <td>0.143517</td>\n",
       "      <td>1.627181</td>\n",
       "      <td>Control</td>\n",
       "      <td>Memantine</td>\n",
       "      <td>C/S</td>\n",
       "      <td>c-CS-m</td>\n",
       "    </tr>\n",
       "    <tr>\n",
       "      <th>76</th>\n",
       "      <td>3415_2</td>\n",
       "      <td>0.616481</td>\n",
       "      <td>0.841974</td>\n",
       "      <td>0.388584</td>\n",
       "      <td>2.862575</td>\n",
       "      <td>5.194163</td>\n",
       "      <td>0.223433</td>\n",
       "      <td>0.167725</td>\n",
       "      <td>3.648240</td>\n",
       "      <td>0.221030</td>\n",
       "      <td>...</td>\n",
       "      <td>0.143084</td>\n",
       "      <td>0.467833</td>\n",
       "      <td>0.112857</td>\n",
       "      <td>0.161132</td>\n",
       "      <td>0.145719</td>\n",
       "      <td>1.562096</td>\n",
       "      <td>Control</td>\n",
       "      <td>Memantine</td>\n",
       "      <td>C/S</td>\n",
       "      <td>c-CS-m</td>\n",
       "    </tr>\n",
       "    <tr>\n",
       "      <th>77</th>\n",
       "      <td>3415_3</td>\n",
       "      <td>0.637424</td>\n",
       "      <td>0.852882</td>\n",
       "      <td>0.400561</td>\n",
       "      <td>2.968155</td>\n",
       "      <td>5.350820</td>\n",
       "      <td>0.208790</td>\n",
       "      <td>0.173261</td>\n",
       "      <td>3.814545</td>\n",
       "      <td>0.222300</td>\n",
       "      <td>...</td>\n",
       "      <td>0.147673</td>\n",
       "      <td>0.462501</td>\n",
       "      <td>0.116433</td>\n",
       "      <td>0.160594</td>\n",
       "      <td>0.142879</td>\n",
       "      <td>1.571868</td>\n",
       "      <td>Control</td>\n",
       "      <td>Memantine</td>\n",
       "      <td>C/S</td>\n",
       "      <td>c-CS-m</td>\n",
       "    </tr>\n",
       "    <tr>\n",
       "      <th>78</th>\n",
       "      <td>3415_4</td>\n",
       "      <td>0.576815</td>\n",
       "      <td>0.755390</td>\n",
       "      <td>0.348346</td>\n",
       "      <td>2.624901</td>\n",
       "      <td>4.727509</td>\n",
       "      <td>0.205892</td>\n",
       "      <td>0.161192</td>\n",
       "      <td>3.778530</td>\n",
       "      <td>0.194153</td>\n",
       "      <td>...</td>\n",
       "      <td>0.121290</td>\n",
       "      <td>0.479110</td>\n",
       "      <td>0.102831</td>\n",
       "      <td>0.144238</td>\n",
       "      <td>0.141681</td>\n",
       "      <td>1.646608</td>\n",
       "      <td>Control</td>\n",
       "      <td>Memantine</td>\n",
       "      <td>C/S</td>\n",
       "      <td>c-CS-m</td>\n",
       "    </tr>\n",
       "    <tr>\n",
       "      <th>79</th>\n",
       "      <td>3415_5</td>\n",
       "      <td>0.542545</td>\n",
       "      <td>0.757917</td>\n",
       "      <td>0.350051</td>\n",
       "      <td>2.634509</td>\n",
       "      <td>4.735602</td>\n",
       "      <td>0.210526</td>\n",
       "      <td>0.165671</td>\n",
       "      <td>3.871971</td>\n",
       "      <td>0.194297</td>\n",
       "      <td>...</td>\n",
       "      <td>0.142617</td>\n",
       "      <td>0.438354</td>\n",
       "      <td>0.110614</td>\n",
       "      <td>0.155667</td>\n",
       "      <td>0.146408</td>\n",
       "      <td>1.607631</td>\n",
       "      <td>Control</td>\n",
       "      <td>Memantine</td>\n",
       "      <td>C/S</td>\n",
       "      <td>c-CS-m</td>\n",
       "    </tr>\n",
       "  </tbody>\n",
       "</table>\n",
       "<p>5 rows × 82 columns</p>\n",
       "</div>"
      ],
      "text/plain": [
       "   MouseID  DYRK1A_N   ITSN1_N    BDNF_N     NR1_N    NR2A_N    pAKT_N  \\\n",
       "75  3415_1  0.649781  0.828696  0.405862  2.921435  5.167979  0.207174   \n",
       "76  3415_2  0.616481  0.841974  0.388584  2.862575  5.194163  0.223433   \n",
       "77  3415_3  0.637424  0.852882  0.400561  2.968155  5.350820  0.208790   \n",
       "78  3415_4  0.576815  0.755390  0.348346  2.624901  4.727509  0.205892   \n",
       "79  3415_5  0.542545  0.757917  0.350051  2.634509  4.735602  0.210526   \n",
       "\n",
       "     pBRAF_N  pCAMKII_N   pCREB_N  ...   pCFOS_N     SYP_N  H3AcK18_N  \\\n",
       "75  0.176640   3.728084  0.239283  ...  0.129363  0.486912   0.125152   \n",
       "76  0.167725   3.648240  0.221030  ...  0.143084  0.467833   0.112857   \n",
       "77  0.173261   3.814545  0.222300  ...  0.147673  0.462501   0.116433   \n",
       "78  0.161192   3.778530  0.194153  ...  0.121290  0.479110   0.102831   \n",
       "79  0.165671   3.871971  0.194297  ...  0.142617  0.438354   0.110614   \n",
       "\n",
       "      EGR1_N  H3MeK4_N    CaNA_N  Genotype  Treatment  Behavior   class  \n",
       "75  0.146865  0.143517  1.627181   Control  Memantine       C/S  c-CS-m  \n",
       "76  0.161132  0.145719  1.562096   Control  Memantine       C/S  c-CS-m  \n",
       "77  0.160594  0.142879  1.571868   Control  Memantine       C/S  c-CS-m  \n",
       "78  0.144238  0.141681  1.646608   Control  Memantine       C/S  c-CS-m  \n",
       "79  0.155667  0.146408  1.607631   Control  Memantine       C/S  c-CS-m  \n",
       "\n",
       "[5 rows x 82 columns]"
      ]
     },
     "execution_count": 4,
     "metadata": {},
     "output_type": "execute_result"
    }
   ],
   "source": [
    "data.head()"
   ]
  },
  {
   "cell_type": "code",
   "execution_count": 5,
   "metadata": {
    "collapsed": false,
    "jupyter": {
     "outputs_hidden": false
    }
   },
   "outputs": [
    {
     "data": {
      "text/plain": [
       "MouseID             object\n",
       "DYRK1A_N           float64\n",
       "ITSN1_N            float64\n",
       "BDNF_N             float64\n",
       "NR1_N              float64\n",
       "NR2A_N             float64\n",
       "pAKT_N             float64\n",
       "pBRAF_N            float64\n",
       "pCAMKII_N          float64\n",
       "pCREB_N            float64\n",
       "pELK_N             float64\n",
       "pERK_N             float64\n",
       "pJNK_N             float64\n",
       "PKCA_N             float64\n",
       "pMEK_N             float64\n",
       "pNR1_N             float64\n",
       "pNR2A_N            float64\n",
       "pNR2B_N            float64\n",
       "pPKCAB_N           float64\n",
       "pRSK_N             float64\n",
       "AKT_N              float64\n",
       "BRAF_N             float64\n",
       "CAMKII_N           float64\n",
       "CREB_N             float64\n",
       "ELK_N              float64\n",
       "ERK_N              float64\n",
       "GSK3B_N            float64\n",
       "JNK_N              float64\n",
       "MEK_N              float64\n",
       "TRKA_N             float64\n",
       "                    ...   \n",
       "RRP1_N             float64\n",
       "BAX_N              float64\n",
       "ARC_N              float64\n",
       "ERBB4_N            float64\n",
       "nNOS_N             float64\n",
       "Tau_N              float64\n",
       "GFAP_N             float64\n",
       "GluR3_N            float64\n",
       "GluR4_N            float64\n",
       "IL1B_N             float64\n",
       "P3525_N            float64\n",
       "pCASP9_N           float64\n",
       "PSD95_N            float64\n",
       "SNCA_N             float64\n",
       "Ubiquitin_N        float64\n",
       "pGSK3B_Tyr216_N    float64\n",
       "SHH_N              float64\n",
       "BAD_N              float64\n",
       "BCL2_N             float64\n",
       "pS6_N              float64\n",
       "pCFOS_N            float64\n",
       "SYP_N              float64\n",
       "H3AcK18_N          float64\n",
       "EGR1_N             float64\n",
       "H3MeK4_N           float64\n",
       "CaNA_N             float64\n",
       "Genotype            object\n",
       "Treatment           object\n",
       "Behavior            object\n",
       "class               object\n",
       "Length: 82, dtype: object"
      ]
     },
     "execution_count": 5,
     "metadata": {},
     "output_type": "execute_result"
    }
   ],
   "source": [
    "data.dtypes"
   ]
  },
  {
   "cell_type": "code",
   "execution_count": 9,
   "metadata": {},
   "outputs": [],
   "source": [
    "from sklearn.preprocessing import LabelEncoder\n",
    "lb=LabelEncoder()\n",
    "data['class']=lb.fit_transform(data['class'])\n",
    "data['Behavior']=lb.fit_transform(data['Behavior'])\n",
    "data['Treatment']=lb.fit_transform(data['Treatment'])\n",
    "data['Genotype']=lb.fit_transform(data['Genotype'])\n",
    "data['MouseID']=lb.fit_transform(data['MouseID'])"
   ]
  },
  {
   "cell_type": "code",
   "execution_count": 10,
   "metadata": {
    "collapsed": false,
    "jupyter": {
     "outputs_hidden": false
    }
   },
   "outputs": [],
   "source": [
    "from sklearn.preprocessing import MinMaxScaler\n",
    "scaler = MinMaxScaler(feature_range=(0,1))\n",
    "normData = scaler.fit_transform(data.astype(float))"
   ]
  },
  {
   "cell_type": "code",
   "execution_count": 11,
   "metadata": {},
   "outputs": [],
   "source": [
    "x=data.drop('class',axis=1)\n",
    "y=data['class']"
   ]
  },
  {
   "cell_type": "code",
   "execution_count": 12,
   "metadata": {},
   "outputs": [],
   "source": [
    "from sklearn.model_selection import train_test_split\n",
    "X_train, X_test, y_train, y_test = train_test_split(x,y)"
   ]
  },
  {
   "cell_type": "markdown",
   "metadata": {},
   "source": [
    "## 2.Voting"
   ]
  },
  {
   "cell_type": "code",
   "execution_count": 13,
   "metadata": {},
   "outputs": [],
   "source": [
    "from sklearn.tree import DecisionTreeClassifier\n",
    "from sklearn.naive_bayes import GaussianNB\n",
    "from sklearn.neighbors import KNeighborsClassifier\n",
    "from sklearn.ensemble import VotingClassifier\n",
    "dt = DecisionTreeClassifier(criterion='gini', max_depth=5)\n",
    "gnb = GaussianNB()\n",
    "knn = KNeighborsClassifier(n_neighbors=7)\n",
    "classifiers = []\n",
    "classifiers.append(('clf1', dt))\n",
    "classifiers.append(('clf2', gnb))\n",
    "classifiers.append(('clf3', knn))\n",
    "ensemble = VotingClassifier(classifiers, voting='hard')\n",
    "ensemble.fit(X_train, y_train)\n",
    "y_pred_vot = ensemble.predict(X_test)"
   ]
  },
  {
   "cell_type": "code",
   "execution_count": 14,
   "metadata": {},
   "outputs": [],
   "source": [
    "dtc = DecisionTreeClassifier(criterion='gini', max_depth=5)\n",
    "dtc.fit(X_train, y_train)\n",
    "y_pred_dtc = dtc.predict(X_test)"
   ]
  },
  {
   "cell_type": "code",
   "execution_count": 15,
   "metadata": {
    "collapsed": false,
    "jupyter": {
     "outputs_hidden": false
    }
   },
   "outputs": [
    {
     "name": "stdout",
     "output_type": "stream",
     "text": [
      "[[11  0  0  0  0  0  0  0]\n",
      " [ 0 16  0  0  0  0  0  0]\n",
      " [ 0  0 21  0  0  0  0  0]\n",
      " [ 0  0  0 16  0  0  0  0]\n",
      " [ 0  0  0  0 25  0  0  0]\n",
      " [ 0  0  0  0  0 17  0  0]\n",
      " [ 0  0  0  0  0  0 13  0]\n",
      " [ 0  0  0  0  0  0  0 19]]\n",
      "              precision    recall  f1-score   support\n",
      "\n",
      "           0       1.00      1.00      1.00        11\n",
      "           1       1.00      1.00      1.00        16\n",
      "           2       1.00      1.00      1.00        21\n",
      "           3       1.00      1.00      1.00        16\n",
      "           4       1.00      1.00      1.00        25\n",
      "           5       1.00      1.00      1.00        17\n",
      "           6       1.00      1.00      1.00        13\n",
      "           7       1.00      1.00      1.00        19\n",
      "\n",
      "    accuracy                           1.00       138\n",
      "   macro avg       1.00      1.00      1.00       138\n",
      "weighted avg       1.00      1.00      1.00       138\n",
      "\n"
     ]
    }
   ],
   "source": [
    "from sklearn.metrics import classification_report\n",
    "from sklearn.metrics import confusion_matrix\n",
    "print(confusion_matrix(y_test, y_pred_vot))\n",
    "print(classification_report(y_test, y_pred_vot))"
   ]
  },
  {
   "cell_type": "code",
   "execution_count": 16,
   "metadata": {
    "collapsed": false,
    "jupyter": {
     "outputs_hidden": false
    }
   },
   "outputs": [
    {
     "name": "stdout",
     "output_type": "stream",
     "text": [
      "[[11  0  0  0  0  0  0  0]\n",
      " [ 0 16  0  0  0  0  0  0]\n",
      " [ 0  0 21  0  0  0  0  0]\n",
      " [ 0  0  0 16  0  0  0  0]\n",
      " [ 0  0  0  0 25  0  0  0]\n",
      " [ 0  0  0  0  0 17  0  0]\n",
      " [ 0  0  0  0  0  0 13  0]\n",
      " [ 0  0  0  0  0  0  0 19]]\n",
      "              precision    recall  f1-score   support\n",
      "\n",
      "           0       1.00      1.00      1.00        11\n",
      "           1       1.00      1.00      1.00        16\n",
      "           2       1.00      1.00      1.00        21\n",
      "           3       1.00      1.00      1.00        16\n",
      "           4       1.00      1.00      1.00        25\n",
      "           5       1.00      1.00      1.00        17\n",
      "           6       1.00      1.00      1.00        13\n",
      "           7       1.00      1.00      1.00        19\n",
      "\n",
      "    accuracy                           1.00       138\n",
      "   macro avg       1.00      1.00      1.00       138\n",
      "weighted avg       1.00      1.00      1.00       138\n",
      "\n"
     ]
    }
   ],
   "source": [
    "print(confusion_matrix(y_test, y_pred_dtc))\n",
    "print(classification_report(y_test, y_pred_dtc))"
   ]
  },
  {
   "cell_type": "markdown",
   "metadata": {},
   "source": [
    "## 3. Bagging"
   ]
  },
  {
   "cell_type": "code",
   "execution_count": 17,
   "metadata": {},
   "outputs": [],
   "source": [
    "from sklearn.ensemble import BaggingClassifier\n",
    "num_classifiers = 500\n",
    "max_samples = len(X_train)\n",
    "base_clf = DecisionTreeClassifier(criterion='gini', max_depth=5)\n",
    "bag_clf = BaggingClassifier(base_estimator=base_clf,n_estimators=num_classifiers,max_samples=max_samples,bootstrap=True,random_state=1)\n",
    "bag_clf.fit(X_train, y_train)\n",
    "y_pred_bag = bag_clf.predict(X_test)"
   ]
  },
  {
   "cell_type": "code",
   "execution_count": 18,
   "metadata": {
    "collapsed": false,
    "jupyter": {
     "outputs_hidden": false
    }
   },
   "outputs": [
    {
     "name": "stdout",
     "output_type": "stream",
     "text": [
      "[[11  0  0  0  0  0  0  0]\n",
      " [ 0 16  0  0  0  0  0  0]\n",
      " [ 0  0 21  0  0  0  0  0]\n",
      " [ 0  0  0 16  0  0  0  0]\n",
      " [ 0  0  0  0 25  0  0  0]\n",
      " [ 0  0  0  0  0 17  0  0]\n",
      " [ 0  0  0  0  0  0 13  0]\n",
      " [ 0  0  0  0  0  0  0 19]]\n",
      "              precision    recall  f1-score   support\n",
      "\n",
      "           0       1.00      1.00      1.00        11\n",
      "           1       1.00      1.00      1.00        16\n",
      "           2       1.00      1.00      1.00        21\n",
      "           3       1.00      1.00      1.00        16\n",
      "           4       1.00      1.00      1.00        25\n",
      "           5       1.00      1.00      1.00        17\n",
      "           6       1.00      1.00      1.00        13\n",
      "           7       1.00      1.00      1.00        19\n",
      "\n",
      "    accuracy                           1.00       138\n",
      "   macro avg       1.00      1.00      1.00       138\n",
      "weighted avg       1.00      1.00      1.00       138\n",
      "\n"
     ]
    }
   ],
   "source": [
    "print(confusion_matrix(y_test, y_pred_bag))\n",
    "print(classification_report(y_test, y_pred_bag))"
   ]
  },
  {
   "cell_type": "markdown",
   "metadata": {},
   "source": [
    "## 4.Boosting"
   ]
  },
  {
   "cell_type": "code",
   "execution_count": 19,
   "metadata": {},
   "outputs": [],
   "source": [
    "from sklearn.ensemble import AdaBoostClassifier\n",
    "num_classifiers = 500\n",
    "learning_rate = 0.07\n",
    "ada_clf = AdaBoostClassifier(base_estimator=base_clf,\n",
    "n_estimators=num_classifiers,\n",
    "learning_rate=learning_rate)\n",
    "ada_clf.fit(X_train, y_train)\n",
    "y_pred_ada = ada_clf.predict(X_test)"
   ]
  },
  {
   "cell_type": "code",
   "execution_count": 20,
   "metadata": {
    "collapsed": false,
    "jupyter": {
     "outputs_hidden": false
    }
   },
   "outputs": [
    {
     "name": "stdout",
     "output_type": "stream",
     "text": [
      "[[11  0  0  0  0  0  0  0]\n",
      " [ 0 16  0  0  0  0  0  0]\n",
      " [ 0  0 21  0  0  0  0  0]\n",
      " [ 0  0  0 16  0  0  0  0]\n",
      " [ 0  0  0  0 25  0  0  0]\n",
      " [ 0  0  0  0  0 17  0  0]\n",
      " [ 0  0  0  0  0  0 13  0]\n",
      " [ 0  0  0  0  0  0  0 19]]\n",
      "              precision    recall  f1-score   support\n",
      "\n",
      "           0       1.00      1.00      1.00        11\n",
      "           1       1.00      1.00      1.00        16\n",
      "           2       1.00      1.00      1.00        21\n",
      "           3       1.00      1.00      1.00        16\n",
      "           4       1.00      1.00      1.00        25\n",
      "           5       1.00      1.00      1.00        17\n",
      "           6       1.00      1.00      1.00        13\n",
      "           7       1.00      1.00      1.00        19\n",
      "\n",
      "    accuracy                           1.00       138\n",
      "   macro avg       1.00      1.00      1.00       138\n",
      "weighted avg       1.00      1.00      1.00       138\n",
      "\n"
     ]
    }
   ],
   "source": [
    "print(confusion_matrix(y_test, y_pred_ada))\n",
    "print(classification_report(y_test, y_pred_ada))"
   ]
  },
  {
   "cell_type": "code",
   "execution_count": 38,
   "metadata": {},
   "outputs": [
    {
     "data": {
      "text/plain": [
       "552"
      ]
     },
     "execution_count": 38,
     "metadata": {},
     "output_type": "execute_result"
    }
   ],
   "source": [
    "len(x)"
   ]
  },
  {
   "cell_type": "markdown",
   "metadata": {},
   "source": [
    "## 5.Random Forest"
   ]
  },
  {
   "cell_type": "code",
   "execution_count": 21,
   "metadata": {},
   "outputs": [],
   "source": [
    "from sklearn.ensemble import RandomForestClassifier\n",
    "rf = RandomForestClassifier(n_estimators=num_classifiers,criterion='gini', max_depth=5)\n",
    "rf.fit(X_train, y_train)\n",
    "y_pred_rf = rf.predict(X_test)"
   ]
  },
  {
   "cell_type": "code",
   "execution_count": 22,
   "metadata": {
    "collapsed": false,
    "jupyter": {
     "outputs_hidden": false
    }
   },
   "outputs": [
    {
     "name": "stdout",
     "output_type": "stream",
     "text": [
      "[[11  0  0  0  0  0  0  0]\n",
      " [ 0 16  0  0  0  0  0  0]\n",
      " [ 0  0 21  0  0  0  0  0]\n",
      " [ 0  0  0 16  0  0  0  0]\n",
      " [ 0  0  0  0 25  0  0  0]\n",
      " [ 0  0  0  0  0 17  0  0]\n",
      " [ 0  0  0  0  0  0 13  0]\n",
      " [ 0  0  0  0  0  0  0 19]]\n",
      "              precision    recall  f1-score   support\n",
      "\n",
      "           0       1.00      1.00      1.00        11\n",
      "           1       1.00      1.00      1.00        16\n",
      "           2       1.00      1.00      1.00        21\n",
      "           3       1.00      1.00      1.00        16\n",
      "           4       1.00      1.00      1.00        25\n",
      "           5       1.00      1.00      1.00        17\n",
      "           6       1.00      1.00      1.00        13\n",
      "           7       1.00      1.00      1.00        19\n",
      "\n",
      "    accuracy                           1.00       138\n",
      "   macro avg       1.00      1.00      1.00       138\n",
      "weighted avg       1.00      1.00      1.00       138\n",
      "\n"
     ]
    }
   ],
   "source": [
    "print(confusion_matrix(y_test, y_pred_rf))\n",
    "print(classification_report(y_test, y_pred_rf))"
   ]
  },
  {
   "cell_type": "code",
   "execution_count": 32,
   "metadata": {
    "collapsed": false,
    "jupyter": {
     "outputs_hidden": false
    }
   },
   "outputs": [],
   "source": [
    "from sklearn.tree import export_graphviz\n",
    "import pydot\n",
    "tree = rf.estimators_[9]\n",
    "export_graphviz(tree, out_file = 'tree.dot',feature_names = x.columns,rounded = True)\n",
    "# Use dot file to create a graph\n",
    "(graph,) = pydot.graph_from_dot_file('tree.dot')\n",
    "# Write graph to a png file\n",
    "graph.write_png('tree.png')"
   ]
  },
  {
   "cell_type": "code",
   "execution_count": 39,
   "metadata": {},
   "outputs": [
    {
     "data": {
      "text/plain": [
       "array([0.02628633, 0.02523783, 0.01611972, 0.00227569, 0.00257682,\n",
       "       0.00167067, 0.00383673, 0.00292016, 0.01751703, 0.00334773,\n",
       "       0.00840501, 0.03323762, 0.0032927 , 0.00501834, 0.00345057,\n",
       "       0.00262583, 0.00393866, 0.00316357, 0.02032638, 0.00835328,\n",
       "       0.01585085, 0.03672403, 0.00747593, 0.00412709, 0.00152232,\n",
       "       0.00235797, 0.00330262, 0.00318645, 0.00179972, 0.00109655,\n",
       "       0.00430417, 0.01176478, 0.00124424, 0.05123849, 0.00454639,\n",
       "       0.0269742 , 0.00598317, 0.00823605, 0.00378456, 0.00514912,\n",
       "       0.00632405, 0.00706759, 0.00304188, 0.01226487, 0.00389518,\n",
       "       0.00132027, 0.01345769, 0.03888617, 0.00314471, 0.0131766 ,\n",
       "       0.00524488, 0.01659529, 0.00737507, 0.00459789, 0.02239503,\n",
       "       0.0069212 , 0.00481256, 0.02484303, 0.00432357, 0.01561932,\n",
       "       0.00915962, 0.00889507, 0.00584724, 0.00772821, 0.00304381,\n",
       "       0.00480562, 0.01456831, 0.01016287, 0.00849127, 0.00253469,\n",
       "       0.00493916, 0.02105445, 0.00421813, 0.00233922, 0.00850553,\n",
       "       0.00263755, 0.00260279, 0.01892782, 0.08995933, 0.10871946,\n",
       "       0.05128363])"
      ]
     },
     "execution_count": 39,
     "metadata": {},
     "output_type": "execute_result"
    }
   ],
   "source": []
  },
  {
   "cell_type": "code",
   "execution_count": 40,
   "metadata": {
    "collapsed": false,
    "jupyter": {
     "outputs_hidden": false
    }
   },
   "outputs": [
    {
     "data": {
      "image/png": "[encoded data removed]",
      "text/plain": [
       "<Figure size 720x720 with 1 Axes>"
      ]
     },
     "metadata": {
      "needs_background": "light"
     },
     "output_type": "display_data"
    }
   ],
   "source": [
    "%matplotlib inline\n",
    "from matplotlib import pyplot as plt\n",
    "n_features = x.columns.size\n",
    "feat_index = np.arange(n_features)\n",
    "plt.figure(figsize=(10,10))\n",
    "plt.barh(feat_index, rf.feature_importances_)\n",
    "plt.yticks(feat_index, x)\n",
    "plt.show()"
   ]
  },
  {
   "cell_type": "markdown",
   "metadata": {},
   "source": [
    "## 6.Stacking"
   ]
  },
  {
   "cell_type": "code",
   "execution_count": 41,
   "metadata": {
    "collapsed": false,
    "jupyter": {
     "outputs_hidden": false
    }
   },
   "outputs": [],
   "source": [
    "from sklearn.svm import SVC\n",
    "from mlxtend.classifier import StackingClassifier\n",
    "clf1 = DecisionTreeClassifier(criterion='gini', max_depth=5)\n",
    "clf2 = GaussianNB()\n",
    "clf3 = KNeighborsClassifier(n_neighbors=7)\n",
    "meta_clf = SVC(gamma='scale')\n",
    "clf_stack = StackingClassifier(classifiers=[clf1, clf2, clf3],meta_classifier=meta_clf, store_train_meta_features=True)\n",
    "clf_stack.fit(X_train, y_train)\n",
    "y_pred_stack = clf_stack.predict(X_test)"
   ]
  },
  {
   "cell_type": "code",
   "execution_count": 42,
   "metadata": {
    "collapsed": false,
    "jupyter": {
     "outputs_hidden": false
    }
   },
   "outputs": [
    {
     "name": "stdout",
     "output_type": "stream",
     "text": [
      "[[11  0  0  0  0  0  0  0]\n",
      " [ 0 16  0  0  0  0  0  0]\n",
      " [ 0  0 21  0  0  0  0  0]\n",
      " [ 0  0  0 15  1  0  0  0]\n",
      " [ 0  0  0  0 25  0  0  0]\n",
      " [ 0  0  0  0  2 15  0  0]\n",
      " [ 0  0  0  0  0  0 13  0]\n",
      " [ 0  0  0  0  0  0  1 18]]\n",
      "              precision    recall  f1-score   support\n",
      "\n",
      "           0       1.00      1.00      1.00        11\n",
      "           1       1.00      1.00      1.00        16\n",
      "           2       1.00      1.00      1.00        21\n",
      "           3       1.00      0.94      0.97        16\n",
      "           4       0.89      1.00      0.94        25\n",
      "           5       1.00      0.88      0.94        17\n",
      "           6       0.93      1.00      0.96        13\n",
      "           7       1.00      0.95      0.97        19\n",
      "\n",
      "    accuracy                           0.97       138\n",
      "   macro avg       0.98      0.97      0.97       138\n",
      "weighted avg       0.97      0.97      0.97       138\n",
      "\n"
     ]
    }
   ],
   "source": [
    "print(confusion_matrix(y_test, y_pred_stack))\n",
    "print(classification_report(y_test, y_pred_stack))"
   ]
  },
  {
   "cell_type": "code",
   "execution_count": null,
   "metadata": {},
   "outputs": [],
   "source": []
  }
 ],
 "metadata": {
  "kernelspec": {
   "display_name": "Python 3",
   "language": "python",
   "name": "python3"
  },
  "language_info": {
   "codemirror_mode": {
    "name": "ipython",
    "version": 3
   },
   "file_extension": ".py",
   "mimetype": "text/x-python",
   "name": "python",
   "nbconvert_exporter": "python",
   "pygments_lexer": "ipython3",
   "version": "3.7.3"
  }
 },
 "nbformat": 4,
 "nbformat_minor": 4
}
