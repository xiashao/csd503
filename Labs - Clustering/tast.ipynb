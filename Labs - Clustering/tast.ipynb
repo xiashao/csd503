{
 "cells": [
  {
   "cell_type": "code",
   "execution_count": null,
   "metadata": {},
   "outputs": [],
   "source": [
    "import datetime\n",
    "from pandas.core.frame import DataFrame\n",
    "number = []\n",
    "time=[]\n",
    "a=0\n",
    "b=1000000\n",
    "for i in range(1,100):\n",
    "    starttime = datetime.datetime.now()\n",
    "    for i in range(1,b):\n",
    "        a=a+1\n",
    "    endtime = datetime.datetime.now()\n",
    "    microsecond = (endtime - starttime).microseconds\n",
    "    seconds = (endtime - starttime).seconds\n",
    "    times=seconds*1000000+microsecond\n",
    "    time.append(times)\n",
    "    number.append(b/1000000)\n",
    "    b=b+1000000\n",
    "df={\"time\" : time,\n",
    "   \"number\" : number}\n",
    "data=DataFrame(df)\n",
    "data.to_csv(\"AWS.csv\")"
   ]
  },
  {
   "cell_type": "code",
   "execution_count": 27,
   "metadata": {},
   "outputs": [
    {
     "data": {
      "text/plain": [
       "[116323, 192655, 273857, 378987, 475529]"
      ]
     },
     "execution_count": 27,
     "metadata": {},
     "output_type": "execute_result"
    }
   ],
   "source": [
    "time"
   ]
  },
  {
   "cell_type": "code",
   "execution_count": 28,
   "metadata": {},
   "outputs": [
    {
     "data": {
      "text/plain": [
       "[1.0, 2.0, 3.0, 4.0, 5.0]"
      ]
     },
     "execution_count": 28,
     "metadata": {},
     "output_type": "execute_result"
    }
   ],
   "source": [
    "number"
   ]
  },
  {
   "cell_type": "code",
   "execution_count": 33,
   "metadata": {},
   "outputs": [
    {
     "name": "stdout",
     "output_type": "stream",
     "text": [
      "     time  number\n",
      "0  116323     1.0\n",
      "1  192655     2.0\n",
      "2  273857     3.0\n",
      "3  378987     4.0\n",
      "4  475529     5.0\n"
     ]
    }
   ],
   "source": [
    "from pandas.core.frame import DataFrame\n"
   ]
  },
  {
   "cell_type": "code",
   "execution_count": null,
   "metadata": {},
   "outputs": [],
   "source": []
  }
 ],
 "metadata": {
  "kernelspec": {
   "display_name": "Python 3",
   "language": "python",
   "name": "python3"
  },
  "language_info": {
   "codemirror_mode": {
    "name": "ipython",
    "version": 3
   },
   "file_extension": ".py",
   "mimetype": "text/x-python",
   "name": "python",
   "nbconvert_exporter": "python",
   "pygments_lexer": "ipython3",
   "version": "3.7.3"
  }
 },
 "nbformat": 4,
 "nbformat_minor": 4
}
