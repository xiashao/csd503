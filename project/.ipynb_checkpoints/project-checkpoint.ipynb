{
 "cells": [
  {
   "cell_type": "markdown",
   "metadata": {},
   "source": [
    "## import data"
   ]
  },
  {
   "cell_type": "code",
   "execution_count": 95,
   "metadata": {},
   "outputs": [],
   "source": [
    "import pandas as pd\n",
    "import numpy as np\n",
    "import matplotlib.pyplot as plt \n",
    "%matplotlib inline\n",
    "from sklearn import metrics\n",
    "from sklearn.preprocessing import LabelEncoder\n",
    "from sklearn.model_selection import train_test_split\n",
    "from sklearn.linear_model import LinearRegression\n",
    "from sklearn.svm import SVC\n",
    "from sklearn.naive_bayes import GaussianNB\n",
    "from sklearn.neighbors import KNeighborsClassifier\n",
    "from sklearn.model_selection import train_test_split\n",
    "from sklearn.metrics import accuracy_score\n",
    "precisions=[]\n",
    "predict=[]\n",
    "y_tests=[]\n",
    "data = pd.read_csv('renfe.csv')\n",
    "knn = KNeighborsClassifier()\n",
    "gnb = GaussianNB()\n",
    "regression = LinearRegression()\n",
    "classifiers = [regression,knn,gnb]\n",
    "classifier_names = ['Regression','KNN','Bayes']"
   ]
  },
  {
   "cell_type": "code",
   "execution_count": 2,
   "metadata": {},
   "outputs": [
    {
     "name": "stdout",
     "output_type": "stream",
     "text": [
      "<class 'pandas.core.frame.DataFrame'>\n",
      "RangeIndex: 7671354 entries, 0 to 7671353\n",
      "Data columns (total 9 columns):\n",
      "insert_date    object\n",
      "origin         object\n",
      "destination    object\n",
      "start_date     object\n",
      "end_date       object\n",
      "train_type     object\n",
      "price          float64\n",
      "train_class    object\n",
      "fare           object\n",
      "dtypes: float64(1), object(8)\n",
      "memory usage: 526.8+ MB\n"
     ]
    }
   ],
   "source": [
    "data.info()"
   ]
  },
  {
   "cell_type": "markdown",
   "metadata": {},
   "source": [
    "## Missing value"
   ]
  },
  {
   "cell_type": "code",
   "execution_count": 2,
   "metadata": {},
   "outputs": [
    {
     "data": {
      "text/plain": [
       "insert_date    False\n",
       "origin         False\n",
       "destination    False\n",
       "start_date     False\n",
       "end_date       False\n",
       "train_type     False\n",
       "price           True\n",
       "train_class     True\n",
       "fare            True\n",
       "dtype: bool"
      ]
     },
     "execution_count": 2,
     "metadata": {},
     "output_type": "execute_result"
    }
   ],
   "source": [
    "data.isnull().any()"
   ]
  },
  {
   "cell_type": "code",
   "execution_count": 4,
   "metadata": {},
   "outputs": [],
   "source": [
    "nan_lines = data.isnull().any(1)"
   ]
  },
  {
   "cell_type": "code",
   "execution_count": 4,
   "metadata": {},
   "outputs": [
    {
     "data": {
      "text/plain": [
       "573121"
      ]
     },
     "execution_count": 4,
     "metadata": {},
     "output_type": "execute_result"
    }
   ],
   "source": [
    "nan_lines.sum()"
   ]
  },
  {
   "cell_type": "code",
   "execution_count": 96,
   "metadata": {},
   "outputs": [],
   "source": [
    "data=data.dropna(how='any')"
   ]
  },
  {
   "cell_type": "markdown",
   "metadata": {},
   "source": [
    "## convert data type"
   ]
  },
  {
   "cell_type": "code",
   "execution_count": 97,
   "metadata": {},
   "outputs": [],
   "source": [
    "for i in ['insert_date','start_date','end_date']:\n",
    "    data[i] = pd.to_datetime(data[i])"
   ]
  },
  {
   "cell_type": "code",
   "execution_count": 98,
   "metadata": {},
   "outputs": [],
   "source": [
    "lab_en = LabelEncoder()\n",
    "data.iloc[:,0] = lab_en.fit_transform(data.iloc[:,0])\n",
    "data.iloc[:,1] = lab_en.fit_transform(data.iloc[:,1])\n",
    "data.iloc[:,2] = lab_en.fit_transform(data.iloc[:,2])\n",
    "data.iloc[:,3] = lab_en.fit_transform(data.iloc[:,3])\n",
    "data.iloc[:,4] = lab_en.fit_transform(data.iloc[:,4])\n",
    "data.iloc[:,5] = lab_en.fit_transform(data.iloc[:,5])\n",
    "data.iloc[:,6] = lab_en.fit_transform(data.iloc[:,6])\n",
    "data.iloc[:,7] = lab_en.fit_transform(data.iloc[:,7])\n",
    "data.iloc[:,8] = lab_en.fit_transform(data.iloc[:,8])"
   ]
  },
  {
   "cell_type": "code",
   "execution_count": 55,
   "metadata": {},
   "outputs": [
    {
     "data": {
      "text/html": [
       "<div>\n",
       "<style scoped>\n",
       "    .dataframe tbody tr th:only-of-type {\n",
       "        vertical-align: middle;\n",
       "    }\n",
       "\n",
       "    .dataframe tbody tr th {\n",
       "        vertical-align: top;\n",
       "    }\n",
       "\n",
       "    .dataframe thead th {\n",
       "        text-align: right;\n",
       "    }\n",
       "</style>\n",
       "<table border=\"1\" class=\"dataframe\">\n",
       "  <thead>\n",
       "    <tr style=\"text-align: right;\">\n",
       "      <th></th>\n",
       "      <th>insert_date</th>\n",
       "      <th>origin</th>\n",
       "      <th>destination</th>\n",
       "      <th>start_date</th>\n",
       "      <th>end_date</th>\n",
       "      <th>train_type</th>\n",
       "      <th>price</th>\n",
       "      <th>train_class</th>\n",
       "      <th>fare</th>\n",
       "    </tr>\n",
       "  </thead>\n",
       "  <tbody>\n",
       "    <tr>\n",
       "      <th>0</th>\n",
       "      <td>0</td>\n",
       "      <td>1</td>\n",
       "      <td>0</td>\n",
       "      <td>472</td>\n",
       "      <td>604</td>\n",
       "      <td>2</td>\n",
       "      <td>225</td>\n",
       "      <td>2</td>\n",
       "      <td>8</td>\n",
       "    </tr>\n",
       "    <tr>\n",
       "      <th>1</th>\n",
       "      <td>0</td>\n",
       "      <td>1</td>\n",
       "      <td>0</td>\n",
       "      <td>475</td>\n",
       "      <td>607</td>\n",
       "      <td>2</td>\n",
       "      <td>244</td>\n",
       "      <td>4</td>\n",
       "      <td>8</td>\n",
       "    </tr>\n",
       "    <tr>\n",
       "      <th>2</th>\n",
       "      <td>0</td>\n",
       "      <td>1</td>\n",
       "      <td>0</td>\n",
       "      <td>477</td>\n",
       "      <td>608</td>\n",
       "      <td>2</td>\n",
       "      <td>300</td>\n",
       "      <td>5</td>\n",
       "      <td>8</td>\n",
       "    </tr>\n",
       "    <tr>\n",
       "      <th>3</th>\n",
       "      <td>0</td>\n",
       "      <td>1</td>\n",
       "      <td>0</td>\n",
       "      <td>482</td>\n",
       "      <td>621</td>\n",
       "      <td>2</td>\n",
       "      <td>277</td>\n",
       "      <td>5</td>\n",
       "      <td>8</td>\n",
       "    </tr>\n",
       "    <tr>\n",
       "      <th>4</th>\n",
       "      <td>0</td>\n",
       "      <td>1</td>\n",
       "      <td>0</td>\n",
       "      <td>484</td>\n",
       "      <td>618</td>\n",
       "      <td>2</td>\n",
       "      <td>272</td>\n",
       "      <td>4</td>\n",
       "      <td>8</td>\n",
       "    </tr>\n",
       "    <tr>\n",
       "      <th>5</th>\n",
       "      <td>0</td>\n",
       "      <td>1</td>\n",
       "      <td>0</td>\n",
       "      <td>486</td>\n",
       "      <td>623</td>\n",
       "      <td>2</td>\n",
       "      <td>301</td>\n",
       "      <td>4</td>\n",
       "      <td>4</td>\n",
       "    </tr>\n",
       "    <tr>\n",
       "      <th>6</th>\n",
       "      <td>0</td>\n",
       "      <td>1</td>\n",
       "      <td>0</td>\n",
       "      <td>492</td>\n",
       "      <td>633</td>\n",
       "      <td>2</td>\n",
       "      <td>301</td>\n",
       "      <td>4</td>\n",
       "      <td>4</td>\n",
       "    </tr>\n",
       "    <tr>\n",
       "      <th>7</th>\n",
       "      <td>0</td>\n",
       "      <td>1</td>\n",
       "      <td>0</td>\n",
       "      <td>497</td>\n",
       "      <td>637</td>\n",
       "      <td>2</td>\n",
       "      <td>295</td>\n",
       "      <td>5</td>\n",
       "      <td>8</td>\n",
       "    </tr>\n",
       "    <tr>\n",
       "      <th>8</th>\n",
       "      <td>0</td>\n",
       "      <td>1</td>\n",
       "      <td>0</td>\n",
       "      <td>503</td>\n",
       "      <td>648</td>\n",
       "      <td>2</td>\n",
       "      <td>295</td>\n",
       "      <td>5</td>\n",
       "      <td>8</td>\n",
       "    </tr>\n",
       "    <tr>\n",
       "      <th>9</th>\n",
       "      <td>0</td>\n",
       "      <td>1</td>\n",
       "      <td>0</td>\n",
       "      <td>509</td>\n",
       "      <td>653</td>\n",
       "      <td>2</td>\n",
       "      <td>301</td>\n",
       "      <td>4</td>\n",
       "      <td>4</td>\n",
       "    </tr>\n",
       "  </tbody>\n",
       "</table>\n",
       "</div>"
      ],
      "text/plain": [
       "   insert_date  origin  destination  start_date  end_date  train_type  price  \\\n",
       "0            0       1            0         472       604           2    225   \n",
       "1            0       1            0         475       607           2    244   \n",
       "2            0       1            0         477       608           2    300   \n",
       "3            0       1            0         482       621           2    277   \n",
       "4            0       1            0         484       618           2    272   \n",
       "5            0       1            0         486       623           2    301   \n",
       "6            0       1            0         492       633           2    301   \n",
       "7            0       1            0         497       637           2    295   \n",
       "8            0       1            0         503       648           2    295   \n",
       "9            0       1            0         509       653           2    301   \n",
       "\n",
       "   train_class  fare  \n",
       "0            2     8  \n",
       "1            4     8  \n",
       "2            5     8  \n",
       "3            5     8  \n",
       "4            4     8  \n",
       "5            4     4  \n",
       "6            4     4  \n",
       "7            5     8  \n",
       "8            5     8  \n",
       "9            4     4  "
      ]
     },
     "execution_count": 55,
     "metadata": {},
     "output_type": "execute_result"
    }
   ],
   "source": [
    "data.head(10)"
   ]
  },
  {
   "cell_type": "code",
   "execution_count": 77,
   "metadata": {},
   "outputs": [],
   "source": [
    "y = data['price']\n",
    "x = data.drop(columns=['price'],axis=1)"
   ]
  },
  {
   "cell_type": "code",
   "execution_count": 61,
   "metadata": {},
   "outputs": [
    {
     "data": {
      "text/plain": [
       "origin        -0.450708\n",
       "train_type    -0.435272\n",
       "destination   -0.413326\n",
       "end_date      -0.178518\n",
       "start_date    -0.178055\n",
       "train_class   -0.143754\n",
       "insert_date   -0.092467\n",
       "fare           0.013249\n",
       "price          1.000000\n",
       "Name: price, dtype: float64"
      ]
     },
     "execution_count": 61,
     "metadata": {},
     "output_type": "execute_result"
    }
   ],
   "source": [
    "corr_matrix = data.corr() \n",
    "corr_matrix['price'].sort_values(ascending=True)"
   ]
  },
  {
   "cell_type": "code",
   "execution_count": 99,
   "metadata": {},
   "outputs": [],
   "source": [
    "x_train, x_test, y_train, y_test = train_test_split(x,y)"
   ]
  },
  {
   "cell_type": "markdown",
   "metadata": {},
   "source": [
    "Preprocessing – Scaling the features"
   ]
  },
  {
   "cell_type": "code",
   "execution_count": 100,
   "metadata": {},
   "outputs": [],
   "source": [
    "from sklearn.preprocessing import MinMaxScaler\n",
    "scaler = MinMaxScaler(feature_range=(0, 1))\n",
    "\n",
    "x_train = scaler.fit_transform(x_train)\n",
    "x_train = pd.DataFrame(x_train)\n",
    "\n",
    "x_test = scaler.fit_transform(x_test)\n",
    "x_test = pd.DataFrame(x_test)"
   ]
  },
  {
   "cell_type": "markdown",
   "metadata": {},
   "source": [
    "## regression_model"
   ]
  },
  {
   "cell_type": "code",
   "execution_count": 101,
   "metadata": {},
   "outputs": [
    {
     "data": {
      "text/plain": [
       "0.6906833537146424"
      ]
     },
     "execution_count": 101,
     "metadata": {},
     "output_type": "execute_result"
    }
   ],
   "source": [
    "regression.fit(x_train, y_train)\n",
    "precision=regression.score(x_test,y_test)\n",
    "precisions.append(precision)\n",
    "precision"
   ]
  },
  {
   "cell_type": "markdown",
   "metadata": {},
   "source": [
    "## evalution_regression"
   ]
  },
  {
   "cell_type": "code",
   "execution_count": 102,
   "metadata": {},
   "outputs": [],
   "source": [
    "y_pred=regression.predict(x_test)\n",
    "predict.append(y_pred)\n",
    "y_tests.append(y_test)"
   ]
  },
  {
   "cell_type": "code",
   "execution_count": 82,
   "metadata": {},
   "outputs": [
    {
     "data": {
      "text/plain": [
       "[<matplotlib.lines.Line2D at 0x1a771f5e48>]"
      ]
     },
     "execution_count": 82,
     "metadata": {},
     "output_type": "execute_result"
    },
    {
     "data": {
      "image/png": "[encoded data removed]",
      "text/plain": [
       "<Figure size 432x288 with 1 Axes>"
      ]
     },
     "metadata": {
      "needs_background": "light"
     },
     "output_type": "display_data"
    }
   ],
   "source": [
    "plt.scatter(y_test[0:100], y_pred[0:100])\n",
    "plt.xlabel('Prices: $Y_i$')\n",
    "plt.ylabel('Predicted prices: $\\hat{Y}_i$')\n",
    "plt.title('Prices vs Predicted Prices: $Y_i$ vs $\\hat{Y}_i$')\n",
    "# plot a line, a perfect prediction would all fall on this line \n",
    "x = np.linspace(0, 300, 600)\n",
    "y=x\n",
    "plt.plot(x, y, 'r')"
   ]
  },
  {
   "cell_type": "code",
   "execution_count": 29,
   "metadata": {},
   "outputs": [
    {
     "name": "stdout",
     "output_type": "stream",
     "text": [
      "36.840907860892344\n"
     ]
    }
   ],
   "source": [
    "from sklearn.metrics import mean_absolute_error \n",
    "print(mean_absolute_error(y_test, y_pred))"
   ]
  },
  {
   "cell_type": "code",
   "execution_count": 32,
   "metadata": {},
   "outputs": [
    {
     "data": {
      "image/png": "[encoded data removed]",
      "text/plain": [
       "<Figure size 576x396 with 2 Axes>"
      ]
     },
     "metadata": {},
     "output_type": "display_data"
    },
    {
     "data": {
      "text/plain": [
       "<matplotlib.axes._subplots.AxesSubplot at 0x1a2e581ac8>"
      ]
     },
     "execution_count": 32,
     "metadata": {},
     "output_type": "execute_result"
    }
   ],
   "source": [
    "from yellowbrick.regressor import ResidualsPlot \n",
    "res_plot = ResidualsPlot(regression) \n",
    "res_plot.fit(x_train, y_train) \n",
    "res_plot.score(x_test, y_test)\n",
    "res_plot.poof()"
   ]
  },
  {
   "cell_type": "markdown",
   "metadata": {},
   "source": [
    "## KNN"
   ]
  },
  {
   "cell_type": "code",
   "execution_count": 103,
   "metadata": {},
   "outputs": [
    {
     "data": {
      "text/plain": [
       "0           7\n",
       "1           8\n",
       "2          10\n",
       "3           9\n",
       "4           9\n",
       "5          10\n",
       "6          10\n",
       "7           9\n",
       "8           9\n",
       "9          10\n",
       "10         10\n",
       "11          9\n",
       "12         10\n",
       "14          9\n",
       "15          8\n",
       "16          9\n",
       "17         10\n",
       "18          8\n",
       "19          8\n",
       "21          7\n",
       "22          8\n",
       "23          8\n",
       "24          8\n",
       "25          8\n",
       "26          8\n",
       "27          8\n",
       "28          8\n",
       "29          8\n",
       "30          8\n",
       "31          8\n",
       "           ..\n",
       "7671324     7\n",
       "7671325     4\n",
       "7671326     1\n",
       "7671327     0\n",
       "7671328     1\n",
       "7671329     2\n",
       "7671330     1\n",
       "7671331     6\n",
       "7671332     6\n",
       "7671333     4\n",
       "7671334     3\n",
       "7671335     2\n",
       "7671336     6\n",
       "7671337     6\n",
       "7671338     5\n",
       "7671339     3\n",
       "7671340     5\n",
       "7671341     1\n",
       "7671342     1\n",
       "7671343     3\n",
       "7671344     1\n",
       "7671345     2\n",
       "7671346     1\n",
       "7671347     2\n",
       "7671348     3\n",
       "7671349     1\n",
       "7671350     2\n",
       "7671351     4\n",
       "7671352     0\n",
       "7671353     4\n",
       "Name: price, Length: 7098233, dtype: int64"
      ]
     },
     "execution_count": 103,
     "metadata": {},
     "output_type": "execute_result"
    }
   ],
   "source": [
    "y = data['price']\n",
    "x = data.drop(columns=['price'],axis=1)\n",
    "y_cls=y//30\n",
    "y_cls"
   ]
  },
  {
   "cell_type": "code",
   "execution_count": 104,
   "metadata": {},
   "outputs": [],
   "source": [
    "x_train, x_test, y_train, y_test = train_test_split(x,y_cls)"
   ]
  },
  {
   "cell_type": "code",
   "execution_count": 105,
   "metadata": {},
   "outputs": [
    {
     "name": "stdout",
     "output_type": "stream",
     "text": [
      "performance 32.49%\n"
     ]
    }
   ],
   "source": [
    "knn.fit(x_train,y_train)\n",
    "# Print results\n",
    "y_pred=knn.predict(x_test)\n",
    "predict.append(y_pred)\n",
    "y_tests.append(y_test)\n",
    "precision=knn.score(x_test,y_test)\n",
    "print(\"performance {:05.2f}%\" .format(precision*100 ))\n",
    "precisions.append(precision)"
   ]
  },
  {
   "cell_type": "code",
   "execution_count": 18,
   "metadata": {},
   "outputs": [
    {
     "name": "stdout",
     "output_type": "stream",
     "text": [
      "              precision    recall  f1-score   support\n",
      "\n",
      "           0       0.23      0.39      0.29     53009\n",
      "           1       0.32      0.35      0.34    167726\n",
      "           2       0.19      0.16      0.18    114496\n",
      "           3       0.25      0.23      0.24    160599\n",
      "           4       0.29      0.29      0.29    164296\n",
      "           5       0.23      0.20      0.22    169210\n",
      "           6       0.23      0.20      0.21    190640\n",
      "           7       0.29      0.27      0.28    181989\n",
      "           8       0.45      0.57      0.50    300820\n",
      "           9       0.38      0.32      0.35    160913\n",
      "          10       0.51      0.45      0.48    110041\n",
      "          11       0.00      0.00      0.00       820\n",
      "\n",
      "    accuracy                           0.32   1774559\n",
      "   macro avg       0.28      0.29      0.28   1774559\n",
      "weighted avg       0.32      0.32      0.32   1774559\n",
      "\n"
     ]
    }
   ],
   "source": [
    "from sklearn.metrics import confusion_matrix\n",
    "from sklearn.metrics import classification_report \n",
    "print(classification_report(y_test, y_pred))"
   ]
  },
  {
   "cell_type": "code",
   "execution_count": 106,
   "metadata": {},
   "outputs": [
    {
     "name": "stdout",
     "output_type": "stream",
     "text": [
      "performance 21.89%\n"
     ]
    }
   ],
   "source": [
    "gnb.fit(x_train,y_train)\n",
    "y_pred=gnb.predict(x_test)\n",
    "# Print results\n",
    "predict.append(y_pred)\n",
    "y_tests.append(y_test)\n",
    "precision=gnb.score(x_test,y_test)\n",
    "print(\"performance {:05.2f}%\" .format(precision*100 ))\n",
    "precisions.append(precision)"
   ]
  },
  {
   "cell_type": "code",
   "execution_count": 20,
   "metadata": {},
   "outputs": [
    {
     "name": "stderr",
     "output_type": "stream",
     "text": [
      "/Users/mac/anaconda3/lib/python3.7/site-packages/sklearn/metrics/classification.py:1437: UndefinedMetricWarning: Precision and F-score are ill-defined and being set to 0.0 in labels with no predicted samples.\n",
      "  'precision', 'predicted', average, warn_for)\n"
     ]
    },
    {
     "name": "stdout",
     "output_type": "stream",
     "text": [
      "              precision    recall  f1-score   support\n",
      "\n",
      "           0       0.08      0.14      0.10     53009\n",
      "           1       0.59      0.57      0.58    167726\n",
      "           2       0.00      0.00      0.00    114496\n",
      "           3       0.08      0.07      0.08    160599\n",
      "           4       0.11      0.05      0.07    164296\n",
      "           5       0.20      0.01      0.01    169210\n",
      "           6       0.00      0.00      0.00    190640\n",
      "           7       0.00      0.00      0.00    181989\n",
      "           8       0.21      0.88      0.33    300820\n",
      "           9       0.00      0.00      0.00    160913\n",
      "          10       0.00      0.00      0.00    110041\n",
      "          11       0.00      0.00      0.00       820\n",
      "\n",
      "    accuracy                           0.22   1774559\n",
      "   macro avg       0.11      0.14      0.10   1774559\n",
      "weighted avg       0.13      0.22      0.13   1774559\n",
      "\n"
     ]
    }
   ],
   "source": [
    "print(classification_report(y_test, y_pred))"
   ]
  },
  {
   "cell_type": "code",
   "execution_count": 107,
   "metadata": {},
   "outputs": [
    {
     "data": {
      "text/plain": [
       "[0.6906833537146424, 0.32486437475451646, 0.21889720206541458]"
      ]
     },
     "execution_count": 107,
     "metadata": {},
     "output_type": "execute_result"
    }
   ],
   "source": [
    "precisions"
   ]
  },
  {
   "cell_type": "markdown",
   "metadata": {},
   "source": [
    "## comparison"
   ]
  },
  {
   "cell_type": "code",
   "execution_count": 48,
   "metadata": {},
   "outputs": [
    {
     "data": {
      "image/png": "[encoded data removed]",
      "text/plain": [
       "<Figure size 432x288 with 1 Axes>"
      ]
     },
     "metadata": {
      "needs_background": "light"
     },
     "output_type": "display_data"
    }
   ],
   "source": [
    "plt.bar(classifier_names, precisions, label='precison')\n",
    "plt.xlabel(\"classifier_names\")\n",
    "plt.ylabel('precison')\n",
    "plt.legend(loc=4)\n",
    "plt.show()"
   ]
  },
  {
   "cell_type": "code",
   "execution_count": 112,
   "metadata": {},
   "outputs": [
    {
     "data": {
      "image/png": "[encoded data removed]",
      "text/plain": [
       "<Figure size 432x288 with 1 Axes>"
      ]
     },
     "metadata": {
      "needs_background": "light"
     },
     "output_type": "display_data"
    }
   ],
   "source": [
    "from sklearn.metrics import roc_curve\n",
    "from sklearn import metrics \n",
    "from sklearn.metrics import auc\n",
    "for y_t,pt,classifier_name in zip(y_tests,predict,classifier_names):\n",
    "    fpr, tpr, thresholds = roc_curve(y_t, pt, pos_label=2)\n",
    "    plt.plot(fpr,tpr,linewidth=1,label=classifier_name)\n",
    "plt.xlabel(\"false presitive rate\")\n",
    "plt.ylabel(\"true presitive rate\")\n",
    "plt.legend(loc=4)\n",
    "plt.show()"
   ]
  },
  {
   "cell_type": "code",
   "execution_count": null,
   "metadata": {},
   "outputs": [],
   "source": []
  }
 ],
 "metadata": {
  "kernelspec": {
   "display_name": "Python 3",
   "language": "python",
   "name": "python3"
  },
  "language_info": {
   "codemirror_mode": {
    "name": "ipython",
    "version": 3
   },
   "file_extension": ".py",
   "mimetype": "text/x-python",
   "name": "python",
   "nbconvert_exporter": "python",
   "pygments_lexer": "ipython3",
   "version": "3.7.3"
  }
 },
 "nbformat": 4,
 "nbformat_minor": 4
}
